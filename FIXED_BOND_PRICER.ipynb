{
  "nbformat": 4,
  "nbformat_minor": 0,
  "metadata": {
    "kernelspec": {
      "display_name": "Python 3",
      "language": "python",
      "name": "python3"
    },
    "language_info": {
      "codemirror_mode": {
        "name": "ipython",
        "version": 3
      },
      "file_extension": ".py",
      "mimetype": "text/x-python",
      "name": "python",
      "nbconvert_exporter": "python",
      "pygments_lexer": "ipython3",
      "version": "3.8.6-final"
    },
    "colab": {
      "name": "FIXED_BOND_PRICER.ipynb",
      "provenance": [],
      "machine_shape": "hm",
      "include_colab_link": true
    }
  },
  "cells": [
    {
      "cell_type": "markdown",
      "metadata": {
        "id": "view-in-github",
        "colab_type": "text"
      },
      "source": [
        "<a href=\"https://colab.research.google.com/github/KN196883/bond_pricer/blob/master/FIXED_BOND_PRICER.ipynb\" target=\"_parent\"><img src=\"https://colab.research.google.com/assets/colab-badge.svg\" alt=\"Open In Colab\"/></a>"
      ]
    },
    {
      "cell_type": "markdown",
      "metadata": {
        "id": "kbqod2O0ipPC"
      },
      "source": [
        "Python class and jupyter iPython notebook for pricing a fixed coupon bond"
      ]
    },
    {
      "cell_type": "code",
      "metadata": {
        "id": "GZSt1nYripPD"
      },
      "source": [
        "import pandas as pd\n",
        "import numpy as np\n",
        "import math as m\n",
        "import datetime as dt\n",
        "from dateutil.relativedelta import relativedelta\n",
        "import calendar\n",
        "\n",
        "##################################################################################\n",
        "#Adding daycount convention functions\n",
        "##################################################################################\n",
        "def day_count_actual_360(start_date, end_date):\n",
        "    #Returns number of days between start_date and end_date, using Actual/360 convention\n",
        "    return (end_date - start_date).days\n",
        "\n",
        "def day_count_actual_365(start_date, end_date):\n",
        "    #Returns number of days between start_date and end_date, using Actual/365 convention\n",
        "    return (end_date - start_date).days\n",
        "\n",
        "def day_count_actual_actual(start_date, end_date):\n",
        "    #Returns number of days between start_date and end_date, using Actual/Actual convention\n",
        "    return (end_date - start_date).days\n",
        "\n",
        "def day_count_30_360(start_date, end_date):\n",
        "    #Returns number of days between start_date and end_date, using Thirty/360 convention\n",
        "    d1 = min(30, start_date.day)\n",
        "    d2 = min(d1, end_date.day) if d1 == 30 else end_date.day\n",
        "    return 360*(end_date.year - start_date.year) + 30*(end_date.month - start_date.month) + d2 - d1\n",
        "\n",
        "def day_count_30E_360(start_date, end_date):\n",
        "    #Returns number of days between start_date and end_date, using ThirtyE/360 convention\n",
        "    d1 = min(30, start_date.day)\n",
        "    d2 = min(30, end_date.day)\n",
        "    return 360 * (end_date.year - start_date.year) + 30 * (end_date.month - start_date.month) + d2 - d1\n",
        "\n",
        "\n",
        "\n",
        "\n",
        "\n",
        "#######################################################################\n",
        "#月末日計算(2/28応答日用)\n",
        "#######################################################################\n",
        "\n",
        "def get_last_date(dt):\n",
        "    return dt.replace(day=calendar.monthrange(dt.year, dt.month)[1])\n",
        "\n",
        "\n",
        "\n",
        "\n",
        "  \n",
        "\n",
        "class fixed_bond:\n",
        "    def __init__(self, issue_date, settlement_date, first_coupon_date, maturity_date, face_value, reoffer_yield, coupon_rate, first_coupon_type, coupon_frequency, day_count_convention, redemption_rate):\n",
        "        ##################################################################################\n",
        "        #Setting up inital attributes\n",
        "        ##################################################################################\n",
        "        self.issue_date = issue_date\n",
        "        self.settlement_date = settlement_date\n",
        "        self.first_coupon_date = first_coupon_date\n",
        "        self.maturity_date = maturity_date\n",
        "        self.face_value = face_value\n",
        "        self.reoffer_yield = reoffer_yield\n",
        "        self.coupon_rate = coupon_rate\n",
        "        self.first_coupon_type = first_coupon_type\n",
        "        self.coupon_frequency = coupon_frequency\n",
        "        self.day_count_convention = day_count_convention\n",
        "        self.redemption_rate = redemption_rate\n",
        "\n",
        "        ##################################################################################\n",
        "        #Parsing input values\n",
        "        ##################################################################################\n",
        "        #Converting reoffer yield to percentage\n",
        "        self.reoffer_yield = self.reoffer_yield/100\n",
        "\n",
        "        #Converting coupon rate to percentage\n",
        "        self.coupon_rate = self.coupon_rate/100\n",
        "\n",
        "        #parsing coupon frequency\n",
        "        if self.coupon_frequency == \"ANNUAL\":\n",
        "            self.coupon_frequency_modifier = 1\n",
        "        elif self.coupon_frequency == \"SEMI-ANNUAL\":\n",
        "            self.coupon_frequency_modifier = 2\n",
        "        elif self.coupon_frequency == \"QUARTERLY\":\n",
        "            self.coupon_frequency_modifier = 4\n",
        "        elif self.coupon_frequency_modifier == \"MONTHLY\":\n",
        "            self.coupon_frequency_modifier = 12\n",
        "        else:\n",
        "            self.coupon_frequency_modifier = 1\n",
        "            #need to add error handling\n",
        "\n",
        "        #Converting redemption rate to percentage\n",
        "        self.redemption_rate = self.redemption_rate/100\n",
        "\n",
        "        #Generating accrual start date\n",
        "        time_modifier = int(12/self.coupon_frequency_modifier)\n",
        "\n",
        "        # if self.first_coupon_type == \"REGULAR\":\n",
        "        #     self.accrual_start_date = self.settlement_date\n",
        "        # else:\n",
        "        #     self.accrual_start_date = self.first_coupon_date - relativedelta(months=time_modifier)\n",
        "\n",
        "        self.accrual_start_date=self.first_coupon_date-relativedelta(months=time_modifier)\n",
        "\n",
        "\n",
        "        ##################################################################################\n",
        "        #Generating the columns for the cash flow table\n",
        "        ##################################################################################\n",
        "        #generating cash flow schedule\n",
        "        cash_flow_date = self.first_coupon_date\n",
        "        cash_flow_dates = [cash_flow_date]\n",
        "        self.number_of_periods = 1\n",
        "\n",
        "\n",
        "        ######ここから\n",
        "        if cash_flow_date==get_last_date(cash_flow_date):\n",
        "          eom=1\n",
        "        else:\n",
        "          eom=0        \n",
        "      \n",
        "\n",
        "        while cash_flow_date < maturity_date:\n",
        "            cash_flow_date += relativedelta(months=time_modifier)\n",
        "            if eom==1:\n",
        "              cash_flow_date=get_last_date(cash_flow_date)\n",
        "\n",
        "            cash_flow_dates.append(cash_flow_date)\n",
        "            self.number_of_periods += 1\n",
        "\n",
        "        self.cash_flow_dates = cash_flow_dates\n",
        "\n",
        "      #######ここ\n",
        "\n",
        "\n",
        "        #computing cash flow periods\n",
        "        cash_flow_periods = []\n",
        "        for i in range(self.number_of_periods):\n",
        "            cash_flow_periods.append(i + 1)\n",
        "        self.cash_flow_periods = cash_flow_periods\n",
        "\n",
        "        # computing future cash flows per date\n",
        "        self.coupon_payment = (self.face_value*self.coupon_rate)/self.coupon_frequency_modifier\n",
        "        self.principal_payment = self.face_value * self.redemption_rate\n",
        "\n",
        "        cash_flow_amounts = []\n",
        "        for i in range(self.number_of_periods):\n",
        "            if i == self.number_of_periods - 1:\n",
        "                cash_flow = self.principal_payment + self.coupon_payment\n",
        "            else:\n",
        "                cash_flow = self.coupon_payment\n",
        "\n",
        "            cash_flow_amounts.append(cash_flow)\n",
        "        self.cash_flow_amounts = cash_flow_amounts\n",
        "\n",
        "        #Computing discount rate\n",
        "        self.discount_rate = 1 + (self.reoffer_yield/self.coupon_frequency_modifier)\n",
        "        self.discount_rates = []\n",
        "        for i in range(self.number_of_periods):\n",
        "            self.discount_rates.append(self.discount_rate)\n",
        "\n",
        "        #Computing discount period\n",
        "        if self.first_coupon_type == \"REGULAR\":\n",
        "            self.discount_period = 1\n",
        "            accrued_numerator = day_count_actual_actual(self.accrual_start_date,self.settlement_date)\n",
        "            denominator = day_count_actual_actual(self.accrual_start_date,self.first_coupon_date)\n",
        "            accrued_denominator = denominator\n",
        "            self.accrued_period = accrued_numerator/accrued_denominator\n",
        "            self.accrued_days = accrued_numerator        \n",
        "            self.accrued_interest = self.cash_flow_amounts[0]*self.accrued_period\n",
        "\n",
        "\n",
        "\n",
        "        else:\n",
        "            if self.day_count_convention == \"ACTUAL/ACTUAL\":\n",
        "                numerator = day_count_actual_actual(self.settlement_date,self.first_coupon_date)\n",
        "                denominator = day_count_actual_actual(self.accrual_start_date,self.first_coupon_date)\n",
        "                self.discount_period = numerator/denominator\n",
        "                if self.first_coupon_type == \"FULL SHORT FIRST\":\n",
        "                    accrued_numerator = day_count_actual_actual(self.accrual_start_date,self.settlement_date)\n",
        "                    accrued_denominator = denominator\n",
        "                    self.accrued_period = accrued_numerator/accrued_denominator\n",
        "                    self.accrued_days = accrued_numerator\n",
        "                    self.accrued_interest = self.cash_flow_amounts[0]*self.accrued_period\n",
        "                else:\n",
        "                    self.accrued_period = 0\n",
        "                    self.accrued_days = 0\n",
        "                    self.accrued_interest = 0\n",
        "\n",
        "            elif self.day_count_actual_365 == \"ACTUAL/365\":\n",
        "                numerator = day_count_actual_365(self.settlement_date,self.first_coupon_date)\n",
        "                denominator = 365/self.coupon_frequency_modifier\n",
        "                self.discount_period = numerator/denominator\n",
        "                if self.first_coupon_type == \"FULL SHORT FIRST\":\n",
        "                    accrued_numerator = day_count_actual_actual(self.accrual_start_date,self.settlement_date)\n",
        "                    accrued_denominator = denominator\n",
        "                    self.accrued_period = accrued_numerator/accrued_denominator\n",
        "                    self.accrued_days = accrued_numerator\n",
        "                    self.accrued_interest = self.cash_flow_amounts[0]*self.accrued_period\n",
        "                else:\n",
        "                    self.accrued_period = 0\n",
        "                    self.accrued_days = 0\n",
        "                    self.accrued_interest = 0\n",
        "\n",
        "            elif self.day_count_actual_360 == \"ACTUAL/360\":\n",
        "                numerator = day_count_actual_360(self.settlement_date,self.first_coupon_date)\n",
        "                denominator = 360/self.coupon_frequency_modifier\n",
        "                self.discount_period = numerator/denominator\n",
        "                if self.first_coupon_type == \"FULL SHORT FIRST\":\n",
        "                    accrued_numerator = day_count_actual_actual(self.accrual_start_date,self.settlement_date)\n",
        "                    accrued_denominator = denominator\n",
        "                    self.accrued_period = accrued_numerator/accrued_denominator\n",
        "                    self.accrued_days = accrued_numerator\n",
        "                    self.accrued_interest = self.cash_flow_amounts[0]*self.accrued_period\n",
        "                else:\n",
        "                    self.accrued_period = 0\n",
        "                    self.accrued_days = 0\n",
        "                    self.accrued_interest = 0\n",
        "\n",
        "            elif self.day_count_30_360 == \"30/360\":\n",
        "                numerator = day_count_30_360(self.settlement_date,self.first_coupon_date)\n",
        "                denominator = 360/coupon_frequency_modifier\n",
        "                self.discount_period = numerator/denominator\n",
        "                if self.first_coupon_type == \"FULL SHORT FIRST\":\n",
        "                    accrued_numerator = day_count_actual_actual(self.accrual_start_date,self.settlement_date)\n",
        "                    accrued_denominator = denominator\n",
        "                    self.accrued_period = accrued_numerator/accrued_denominator\n",
        "                    self.accrued_days = accrued_numerator\n",
        "                    self.accrued_interest = self.cash_flow_amounts[0]*self.accrued_period\n",
        "                else:\n",
        "                    self.accrued_period = 0\n",
        "                    self.accrued_days = 0\n",
        "                    self.accrued_interest = 0\n",
        "\n",
        "            elif self.day_count_30E_360 == \"30E/360\":\n",
        "                numerator = day_count_30E_360(self.settlement_date,self.first_coupon_date)\n",
        "                denominator = 360/coupon_frequency_modifier\n",
        "                self.discount_period = numerator/denominator\n",
        "                if self.first_coupon_type == \"FULL SHORT FIRST\":\n",
        "                    accrued_numerator = day_count_actual_actual(self.accrual_start_date,self.settlement_date)\n",
        "                    accrued_denominator = denominator\n",
        "                    self.accrued_period = accrued_numerator/accrued_denominator\n",
        "                    self.accrued_days = accrued_numerator\n",
        "                    self.accrued_interest = self.cash_flow_amounts[0]*self.accrued_period\n",
        "                else:\n",
        "                    self.accrued_period = 0\n",
        "                    self.accrued_days = 0\n",
        "                    self.accrued_interest = 0\n",
        "        \n",
        "        self.discount_periods = []\n",
        "        for i in range(self.number_of_periods):\n",
        "            self.discount_periods.append(self.discount_period+i)\n",
        "\n",
        "        #Adjusting first coupon if it's a full short first\n",
        "        if self.first_coupon_type == \"FULL SHORT FIRST\":\n",
        "            self.cash_flow_amounts[0] = self.coupon_payment\n",
        "        elif self.first_coupon_type != \"REGULAR\":\n",
        "            self.cash_flow_amounts[0] = self.coupon_payment * self.discount_period\n",
        "\n",
        "        #generating a cash flow table and calculating reoffer cash price\n",
        "        #table - coupon number / coupon date / cash flow / discount rate / discount period / npv\n",
        "        df = pd.DataFrame(np.column_stack([self.cash_flow_periods, self.cash_flow_dates, self.cash_flow_amounts, self.discount_rates, self.discount_periods]), \n",
        "                               columns=['coupon number', 'coupon_date', 'cash_flow', 'discount_rate', 'discount_period'])\n",
        "        df['npv'] = (df.cash_flow / (df.discount_rate**df.discount_period))\n",
        "\n",
        "        self.cash_flow_table = df\n",
        "        self.reoffer_price = (self.cash_flow_table.npv.sum()/self.face_value)*100\n",
        "        self.dirty_price = self.reoffer_price + (self.accrued_interest/self.face_value)"
      ],
      "execution_count": 35,
      "outputs": []
    },
    {
      "cell_type": "code",
      "metadata": {
        "id": "9AC1yPAhipPH",
        "colab": {
          "base_uri": "https://localhost:8080/"
        },
        "outputId": "6c9b422a-4201-4fc7-9c3f-46383c302346"
      },
      "source": [
        "##################################################################################\n",
        "#Using the class\n",
        "##################################################################################\n",
        "issue_date = dt.date(2021,2,16)\n",
        "settlement_date = dt.date(2021,2,26)\n",
        "first_coupon_date = dt.date(2021,8,15)\n",
        "maturity_date = dt.date(2031,2,15)\n",
        "face_value = 1000\n",
        "reoffer_yield = 1.399\n",
        "coupon_rate = 1.125\n",
        "first_coupon_type = \"REGULAR\"\n",
        "coupon_frequency = \"SEMI-ANNUAL\"\n",
        "day_count_convention = \"ACTUAL/ACTUAL\"\n",
        "redemption_rate = 100\n",
        "\n",
        "test_bond = fixed_bond(issue_date,settlement_date,first_coupon_date, maturity_date,face_value,reoffer_yield,coupon_rate,first_coupon_type,coupon_frequency,day_count_convention,redemption_rate)\n",
        "\n",
        "print(test_bond.cash_flow_table)\n",
        "print(f\"Reoffer clean price is: {round(test_bond.reoffer_price,3)}%\")\n",
        "print(f\"Days of accrued interest: {test_bond.accrued_days}\")\n",
        "print(f\"Reoffer dirty price is: {round(test_bond.dirty_price,3)}%\")\n",
        "\n",
        "##################################################################################\n",
        "#List of inputs\n",
        "##################################################################################\n",
        "#issue_date, settlement_date, first_coupon_date,maturity_date = datetime objects (yyyy,m,d)\n",
        "#face_value = float\n",
        "#reoffer_yield = for example, a reoffer yield of 2.3% is entered as 2.3\n",
        "#coupon_rate = for example, a coupon of 2.25% is entered as 2.25\n",
        "#first_coupon_type = string: REGULAR, ODD, FULL SHORT FIRST\n",
        "#coupon_frequency = string: ANNUAL, SEMI-ANNUAL, QUARTERLY, MONTHLY\n",
        "#day_count_convention = string: ACTUAL/ACTUAL, ACTUAL/365, ACTUAL/360, 30/360, 30E/360\n",
        "#redemption_rate = for example, a redemption rate of 100% is entered as 100"
      ],
      "execution_count": 36,
      "outputs": [
        {
          "output_type": "stream",
          "text": [
            "   coupon number coupon_date cash_flow discount_rate discount_period      npv\n",
            "0              1  2021-08-15     5.625         1.007               1  5.58593\n",
            "1              2  2022-02-15     5.625         1.007               2  5.54712\n",
            "2              3  2022-08-15     5.625         1.007               3  5.50859\n",
            "3              4  2023-02-15     5.625         1.007               4  5.47033\n",
            "4              5  2023-08-15     5.625         1.007               5  5.43233\n",
            "5              6  2024-02-15     5.625         1.007               6  5.39459\n",
            "6              7  2024-08-15     5.625         1.007               7  5.35712\n",
            "7              8  2025-02-15     5.625         1.007               8  5.31991\n",
            "8              9  2025-08-15     5.625         1.007               9  5.28295\n",
            "9             10  2026-02-15     5.625         1.007              10  5.24625\n",
            "10            11  2026-08-15     5.625         1.007              11  5.20981\n",
            "11            12  2027-02-15     5.625         1.007              12  5.17362\n",
            "12            13  2027-08-15     5.625         1.007              13  5.13768\n",
            "13            14  2028-02-15     5.625         1.007              14    5.102\n",
            "14            15  2028-08-15     5.625         1.007              15  5.06656\n",
            "15            16  2029-02-15     5.625         1.007              16  5.03136\n",
            "16            17  2029-08-15     5.625         1.007              17  4.99641\n",
            "17            18  2030-02-15     5.625         1.007              18   4.9617\n",
            "18            19  2030-08-15     5.625         1.007              19  4.92724\n",
            "19            20  2031-02-15   1005.62         1.007              20  874.762\n",
            "Reoffer clean price is: 97.451%\n",
            "Days of accrued interest: 11\n",
            "Reoffer dirty price is: 97.452%\n"
          ],
          "name": "stdout"
        }
      ]
    },
    {
      "cell_type": "code",
      "metadata": {
        "colab": {
          "base_uri": "https://localhost:8080/"
        },
        "id": "Pxv6GA0jUjr_",
        "outputId": "9955e29c-75c6-4219-ee27-856a165051da"
      },
      "source": [
        "##################################################################################\n",
        "#Using the class\n",
        "##################################################################################\n",
        "issue_date = dt.date(2021,2,16)\n",
        "settlement_date = dt.date(2021,3,1)\n",
        "first_coupon_date = dt.date(2021,8,15)\n",
        "maturity_date = dt.date(2031,2,15)\n",
        "face_value = 1000\n",
        "reoffer_yield = 1.405\n",
        "coupon_rate = 1.125\n",
        "first_coupon_type = \"REGULAR\"\n",
        "coupon_frequency = \"SEMI-ANNUAL\"\n",
        "day_count_convention = \"ACTUAL/ACTUAL\"\n",
        "redemption_rate = 100\n",
        "\n",
        "test_bond = fixed_bond(issue_date,settlement_date,first_coupon_date, maturity_date,face_value,reoffer_yield,coupon_rate,first_coupon_type,coupon_frequency,day_count_convention,redemption_rate)\n",
        "\n",
        "print(test_bond.cash_flow_table)\n",
        "print(f\"Reoffer clean price is: {round(test_bond.reoffer_price,3)}%\")\n",
        "print(f\"Days of accrued interest: {test_bond.accrued_days}\")\n",
        "print(f\"Reoffer dirty price is: {round(test_bond.dirty_price,3)}%\")\n",
        "\n",
        "##################################################################################\n",
        "#List of inputs\n",
        "##################################################################################\n",
        "#issue_date, settlement_date, first_coupon_date,maturity_date = datetime objects (yyyy,m,d)\n",
        "#face_value = float\n",
        "#reoffer_yield = for example, a reoffer yield of 2.3% is entered as 2.3\n",
        "#coupon_rate = for example, a coupon of 2.25% is entered as 2.25\n",
        "#first_coupon_type = string: REGULAR, ODD, FULL SHORT FIRST\n",
        "#coupon_frequency = string: ANNUAL, SEMI-ANNUAL, QUARTERLY, MONTHLY\n",
        "#day_count_convention = string: ACTUAL/ACTUAL, ACTUAL/365, ACTUAL/360, 30/360, 30E/360\n",
        "#redemption_rate = for example, a redemption rate of 100% is entered as 100"
      ],
      "execution_count": 37,
      "outputs": [
        {
          "output_type": "stream",
          "text": [
            "   coupon number coupon_date cash_flow discount_rate discount_period      npv\n",
            "0              1  2021-08-15     5.625       1.00703               1  5.58576\n",
            "1              2  2022-02-15     5.625       1.00703               2  5.54679\n",
            "2              3  2022-08-15     5.625       1.00703               3   5.5081\n",
            "3              4  2023-02-15     5.625       1.00703               4  5.46967\n",
            "4              5  2023-08-15     5.625       1.00703               5  5.43152\n",
            "5              6  2024-02-15     5.625       1.00703               6  5.39363\n",
            "6              7  2024-08-15     5.625       1.00703               7    5.356\n",
            "7              8  2025-02-15     5.625       1.00703               8  5.31864\n",
            "8              9  2025-08-15     5.625       1.00703               9  5.28154\n",
            "9             10  2026-02-15     5.625       1.00703              10  5.24469\n",
            "10            11  2026-08-15     5.625       1.00703              11  5.20811\n",
            "11            12  2027-02-15     5.625       1.00703              12  5.17177\n",
            "12            13  2027-08-15     5.625       1.00703              13   5.1357\n",
            "13            14  2028-02-15     5.625       1.00703              14  5.09987\n",
            "14            15  2028-08-15     5.625       1.00703              15  5.06429\n",
            "15            16  2029-02-15     5.625       1.00703              16  5.02896\n",
            "16            17  2029-08-15     5.625       1.00703              17  4.99388\n",
            "17            18  2030-02-15     5.625       1.00703              18  4.95904\n",
            "18            19  2030-08-15     5.625       1.00703              19  4.92445\n",
            "19            20  2031-02-15   1005.62       1.00703              20  874.241\n",
            "Reoffer clean price is: 97.396%\n",
            "Days of accrued interest: 14\n",
            "Reoffer dirty price is: 97.397%\n"
          ],
          "name": "stdout"
        }
      ]
    },
    {
      "cell_type": "code",
      "metadata": {
        "id": "DZUQMaD06S_R",
        "colab": {
          "base_uri": "https://localhost:8080/"
        },
        "outputId": "f2cc3c85-2133-4e23-b905-380b4130e478"
      },
      "source": [
        "test_bond.accrued_interest"
      ],
      "execution_count": 38,
      "outputs": [
        {
          "output_type": "execute_result",
          "data": {
            "text/plain": [
              "0.43508287292817677"
            ]
          },
          "metadata": {
            "tags": []
          },
          "execution_count": 38
        }
      ]
    },
    {
      "cell_type": "code",
      "metadata": {
        "id": "1N_OzJaACUYu",
        "colab": {
          "base_uri": "https://localhost:8080/",
          "height": 415
        },
        "outputId": "cb245dff-ca39-4467-9a9c-f7d74c36da83"
      },
      "source": [
        "df=pd.read_csv('https://raw.githubusercontent.com/KN196883/bond_pricer/master/Data0308_2',sep='\\t')"
      ],
      "execution_count": 39,
      "outputs": [
        {
          "output_type": "execute_result",
          "data": {
            "text/html": [
              "<div>\n",
              "<style scoped>\n",
              "    .dataframe tbody tr th:only-of-type {\n",
              "        vertical-align: middle;\n",
              "    }\n",
              "\n",
              "    .dataframe tbody tr th {\n",
              "        vertical-align: top;\n",
              "    }\n",
              "\n",
              "    .dataframe thead th {\n",
              "        text-align: right;\n",
              "    }\n",
              "</style>\n",
              "<table border=\"1\" class=\"dataframe\">\n",
              "  <thead>\n",
              "    <tr style=\"text-align: right;\">\n",
              "      <th></th>\n",
              "      <th>cusip_id</th>\n",
              "      <th>coupon</th>\n",
              "      <th>issue_dt</th>\n",
              "      <th>maturity</th>\n",
              "      <th>price</th>\n",
              "      <th>yield_bql</th>\n",
              "      <th>nxt_cpn_dt</th>\n",
              "      <th>acc</th>\n",
              "    </tr>\n",
              "  </thead>\n",
              "  <tbody>\n",
              "    <tr>\n",
              "      <th>0</th>\n",
              "      <td>9128284B3 GOVT</td>\n",
              "      <td>2.375</td>\n",
              "      <td>2018/03/15</td>\n",
              "      <td>2021/03/15</td>\n",
              "      <td>100.042969</td>\n",
              "      <td>0.320292</td>\n",
              "      <td>2021/03/15</td>\n",
              "      <td>11546.96</td>\n",
              "    </tr>\n",
              "    <tr>\n",
              "      <th>1</th>\n",
              "      <td>912828C57 GOVT</td>\n",
              "      <td>2.250</td>\n",
              "      <td>2014/03/31</td>\n",
              "      <td>2021/03/31</td>\n",
              "      <td>100.134766</td>\n",
              "      <td>0.129961</td>\n",
              "      <td>2021/03/31</td>\n",
              "      <td>9951.92</td>\n",
              "    </tr>\n",
              "    <tr>\n",
              "      <th>2</th>\n",
              "      <td>912828Q37 GOVT</td>\n",
              "      <td>1.250</td>\n",
              "      <td>2016/03/31</td>\n",
              "      <td>2021/03/31</td>\n",
              "      <td>100.068359</td>\n",
              "      <td>0.262716</td>\n",
              "      <td>2021/03/31</td>\n",
              "      <td>5528.85</td>\n",
              "    </tr>\n",
              "    <tr>\n",
              "      <th>3</th>\n",
              "      <td>9128284G2 GOVT</td>\n",
              "      <td>2.375</td>\n",
              "      <td>2018/04/16</td>\n",
              "      <td>2021/04/15</td>\n",
              "      <td>100.242188</td>\n",
              "      <td>0.077346</td>\n",
              "      <td>2021/04/15</td>\n",
              "      <td>9526.10</td>\n",
              "    </tr>\n",
              "    <tr>\n",
              "      <th>4</th>\n",
              "      <td>912828Q78 GOVT</td>\n",
              "      <td>1.375</td>\n",
              "      <td>2016/05/02</td>\n",
              "      <td>2021/04/30</td>\n",
              "      <td>100.193359</td>\n",
              "      <td>0.072812</td>\n",
              "      <td>2021/04/30</td>\n",
              "      <td>4937.85</td>\n",
              "    </tr>\n",
              "    <tr>\n",
              "      <th>...</th>\n",
              "      <td>...</td>\n",
              "      <td>...</td>\n",
              "      <td>...</td>\n",
              "      <td>...</td>\n",
              "      <td>...</td>\n",
              "      <td>...</td>\n",
              "      <td>...</td>\n",
              "      <td>...</td>\n",
              "    </tr>\n",
              "    <tr>\n",
              "      <th>312</th>\n",
              "      <td>912810SL3 GOVT</td>\n",
              "      <td>2.000</td>\n",
              "      <td>2020/02/18</td>\n",
              "      <td>2050/02/15</td>\n",
              "      <td>93.367188</td>\n",
              "      <td>2.317573</td>\n",
              "      <td>2021/08/15</td>\n",
              "      <td>1270.72</td>\n",
              "    </tr>\n",
              "    <tr>\n",
              "      <th>313</th>\n",
              "      <td>912810SN9 GOVT</td>\n",
              "      <td>1.250</td>\n",
              "      <td>2020/05/15</td>\n",
              "      <td>2050/05/15</td>\n",
              "      <td>77.062500</td>\n",
              "      <td>2.340164</td>\n",
              "      <td>2021/05/15</td>\n",
              "      <td>3970.99</td>\n",
              "    </tr>\n",
              "    <tr>\n",
              "      <th>314</th>\n",
              "      <td>912810SP4 GOVT</td>\n",
              "      <td>1.375</td>\n",
              "      <td>2020/08/17</td>\n",
              "      <td>2050/08/15</td>\n",
              "      <td>79.632812</td>\n",
              "      <td>2.337215</td>\n",
              "      <td>2021/08/15</td>\n",
              "      <td>873.62</td>\n",
              "    </tr>\n",
              "    <tr>\n",
              "      <th>315</th>\n",
              "      <td>912810SS8 GOVT</td>\n",
              "      <td>1.625</td>\n",
              "      <td>2020/11/16</td>\n",
              "      <td>2050/11/15</td>\n",
              "      <td>84.960938</td>\n",
              "      <td>2.330643</td>\n",
              "      <td>2021/05/15</td>\n",
              "      <td>5162.29</td>\n",
              "    </tr>\n",
              "    <tr>\n",
              "      <th>316</th>\n",
              "      <td>912810SU3 GOVT</td>\n",
              "      <td>1.875</td>\n",
              "      <td>2021/02/16</td>\n",
              "      <td>2051/02/15</td>\n",
              "      <td>90.414062</td>\n",
              "      <td>2.321474</td>\n",
              "      <td>2021/08/15</td>\n",
              "      <td>1191.30</td>\n",
              "    </tr>\n",
              "  </tbody>\n",
              "</table>\n",
              "<p>317 rows × 8 columns</p>\n",
              "</div>"
            ],
            "text/plain": [
              "           cusip_id  coupon    issue_dt  ... yield_bql  nxt_cpn_dt       acc\n",
              "0    9128284B3 GOVT   2.375  2018/03/15  ...  0.320292  2021/03/15  11546.96\n",
              "1    912828C57 GOVT   2.250  2014/03/31  ...  0.129961  2021/03/31   9951.92\n",
              "2    912828Q37 GOVT   1.250  2016/03/31  ...  0.262716  2021/03/31   5528.85\n",
              "3    9128284G2 GOVT   2.375  2018/04/16  ...  0.077346  2021/04/15   9526.10\n",
              "4    912828Q78 GOVT   1.375  2016/05/02  ...  0.072812  2021/04/30   4937.85\n",
              "..              ...     ...         ...  ...       ...         ...       ...\n",
              "312  912810SL3 GOVT   2.000  2020/02/18  ...  2.317573  2021/08/15   1270.72\n",
              "313  912810SN9 GOVT   1.250  2020/05/15  ...  2.340164  2021/05/15   3970.99\n",
              "314  912810SP4 GOVT   1.375  2020/08/17  ...  2.337215  2021/08/15    873.62\n",
              "315  912810SS8 GOVT   1.625  2020/11/16  ...  2.330643  2021/05/15   5162.29\n",
              "316  912810SU3 GOVT   1.875  2021/02/16  ...  2.321474  2021/08/15   1191.30\n",
              "\n",
              "[317 rows x 8 columns]"
            ]
          },
          "metadata": {
            "tags": []
          },
          "execution_count": 39
        }
      ]
    },
    {
      "cell_type": "code",
      "metadata": {
        "id": "9MvttXIDyuk1",
        "colab": {
          "base_uri": "https://localhost:8080/",
          "height": 415
        },
        "outputId": "663948a2-c7f8-468b-cd9e-55f2ccb19ab5"
      },
      "source": [
        "#日付の型変換\n",
        "\n",
        "df_t=df.sort_values('maturity').reset_index(drop=True)\n",
        "tran_list=['issue_dt','maturity','nxt_cpn_dt']\n",
        "\n",
        "for i in tran_list:\n",
        "  df_t[i]=pd.to_datetime(df_t[i])\n",
        "\n",
        "df_t"
      ],
      "execution_count": 40,
      "outputs": [
        {
          "output_type": "execute_result",
          "data": {
            "text/html": [
              "<div>\n",
              "<style scoped>\n",
              "    .dataframe tbody tr th:only-of-type {\n",
              "        vertical-align: middle;\n",
              "    }\n",
              "\n",
              "    .dataframe tbody tr th {\n",
              "        vertical-align: top;\n",
              "    }\n",
              "\n",
              "    .dataframe thead th {\n",
              "        text-align: right;\n",
              "    }\n",
              "</style>\n",
              "<table border=\"1\" class=\"dataframe\">\n",
              "  <thead>\n",
              "    <tr style=\"text-align: right;\">\n",
              "      <th></th>\n",
              "      <th>cusip_id</th>\n",
              "      <th>coupon</th>\n",
              "      <th>issue_dt</th>\n",
              "      <th>maturity</th>\n",
              "      <th>price</th>\n",
              "      <th>yield_bql</th>\n",
              "      <th>nxt_cpn_dt</th>\n",
              "      <th>acc</th>\n",
              "    </tr>\n",
              "  </thead>\n",
              "  <tbody>\n",
              "    <tr>\n",
              "      <th>0</th>\n",
              "      <td>9128284B3 GOVT</td>\n",
              "      <td>2.375</td>\n",
              "      <td>2018-03-15</td>\n",
              "      <td>2021-03-15</td>\n",
              "      <td>100.042969</td>\n",
              "      <td>0.320292</td>\n",
              "      <td>2021-03-15</td>\n",
              "      <td>11546.96</td>\n",
              "    </tr>\n",
              "    <tr>\n",
              "      <th>1</th>\n",
              "      <td>912828C57 GOVT</td>\n",
              "      <td>2.250</td>\n",
              "      <td>2014-03-31</td>\n",
              "      <td>2021-03-31</td>\n",
              "      <td>100.134766</td>\n",
              "      <td>0.129961</td>\n",
              "      <td>2021-03-31</td>\n",
              "      <td>9951.92</td>\n",
              "    </tr>\n",
              "    <tr>\n",
              "      <th>2</th>\n",
              "      <td>912828Q37 GOVT</td>\n",
              "      <td>1.250</td>\n",
              "      <td>2016-03-31</td>\n",
              "      <td>2021-03-31</td>\n",
              "      <td>100.068359</td>\n",
              "      <td>0.262716</td>\n",
              "      <td>2021-03-31</td>\n",
              "      <td>5528.85</td>\n",
              "    </tr>\n",
              "    <tr>\n",
              "      <th>3</th>\n",
              "      <td>9128284G2 GOVT</td>\n",
              "      <td>2.375</td>\n",
              "      <td>2018-04-16</td>\n",
              "      <td>2021-04-15</td>\n",
              "      <td>100.242188</td>\n",
              "      <td>0.077346</td>\n",
              "      <td>2021-04-15</td>\n",
              "      <td>9526.10</td>\n",
              "    </tr>\n",
              "    <tr>\n",
              "      <th>4</th>\n",
              "      <td>912828Q78 GOVT</td>\n",
              "      <td>1.375</td>\n",
              "      <td>2016-05-02</td>\n",
              "      <td>2021-04-30</td>\n",
              "      <td>100.193359</td>\n",
              "      <td>0.072812</td>\n",
              "      <td>2021-04-30</td>\n",
              "      <td>4937.85</td>\n",
              "    </tr>\n",
              "    <tr>\n",
              "      <th>...</th>\n",
              "      <td>...</td>\n",
              "      <td>...</td>\n",
              "      <td>...</td>\n",
              "      <td>...</td>\n",
              "      <td>...</td>\n",
              "      <td>...</td>\n",
              "      <td>...</td>\n",
              "      <td>...</td>\n",
              "    </tr>\n",
              "    <tr>\n",
              "      <th>312</th>\n",
              "      <td>912810SL3 GOVT</td>\n",
              "      <td>2.000</td>\n",
              "      <td>2020-02-18</td>\n",
              "      <td>2050-02-15</td>\n",
              "      <td>93.367188</td>\n",
              "      <td>2.317573</td>\n",
              "      <td>2021-08-15</td>\n",
              "      <td>1270.72</td>\n",
              "    </tr>\n",
              "    <tr>\n",
              "      <th>313</th>\n",
              "      <td>912810SN9 GOVT</td>\n",
              "      <td>1.250</td>\n",
              "      <td>2020-05-15</td>\n",
              "      <td>2050-05-15</td>\n",
              "      <td>77.062500</td>\n",
              "      <td>2.340164</td>\n",
              "      <td>2021-05-15</td>\n",
              "      <td>3970.99</td>\n",
              "    </tr>\n",
              "    <tr>\n",
              "      <th>314</th>\n",
              "      <td>912810SP4 GOVT</td>\n",
              "      <td>1.375</td>\n",
              "      <td>2020-08-17</td>\n",
              "      <td>2050-08-15</td>\n",
              "      <td>79.632812</td>\n",
              "      <td>2.337215</td>\n",
              "      <td>2021-08-15</td>\n",
              "      <td>873.62</td>\n",
              "    </tr>\n",
              "    <tr>\n",
              "      <th>315</th>\n",
              "      <td>912810SS8 GOVT</td>\n",
              "      <td>1.625</td>\n",
              "      <td>2020-11-16</td>\n",
              "      <td>2050-11-15</td>\n",
              "      <td>84.960938</td>\n",
              "      <td>2.330643</td>\n",
              "      <td>2021-05-15</td>\n",
              "      <td>5162.29</td>\n",
              "    </tr>\n",
              "    <tr>\n",
              "      <th>316</th>\n",
              "      <td>912810SU3 GOVT</td>\n",
              "      <td>1.875</td>\n",
              "      <td>2021-02-16</td>\n",
              "      <td>2051-02-15</td>\n",
              "      <td>90.414062</td>\n",
              "      <td>2.321474</td>\n",
              "      <td>2021-08-15</td>\n",
              "      <td>1191.30</td>\n",
              "    </tr>\n",
              "  </tbody>\n",
              "</table>\n",
              "<p>317 rows × 8 columns</p>\n",
              "</div>"
            ],
            "text/plain": [
              "           cusip_id  coupon   issue_dt  ... yield_bql  nxt_cpn_dt       acc\n",
              "0    9128284B3 GOVT   2.375 2018-03-15  ...  0.320292  2021-03-15  11546.96\n",
              "1    912828C57 GOVT   2.250 2014-03-31  ...  0.129961  2021-03-31   9951.92\n",
              "2    912828Q37 GOVT   1.250 2016-03-31  ...  0.262716  2021-03-31   5528.85\n",
              "3    9128284G2 GOVT   2.375 2018-04-16  ...  0.077346  2021-04-15   9526.10\n",
              "4    912828Q78 GOVT   1.375 2016-05-02  ...  0.072812  2021-04-30   4937.85\n",
              "..              ...     ...        ...  ...       ...         ...       ...\n",
              "312  912810SL3 GOVT   2.000 2020-02-18  ...  2.317573  2021-08-15   1270.72\n",
              "313  912810SN9 GOVT   1.250 2020-05-15  ...  2.340164  2021-05-15   3970.99\n",
              "314  912810SP4 GOVT   1.375 2020-08-17  ...  2.337215  2021-08-15    873.62\n",
              "315  912810SS8 GOVT   1.625 2020-11-16  ...  2.330643  2021-05-15   5162.29\n",
              "316  912810SU3 GOVT   1.875 2021-02-16  ...  2.321474  2021-08-15   1191.30\n",
              "\n",
              "[317 rows x 8 columns]"
            ]
          },
          "metadata": {
            "tags": []
          },
          "execution_count": 40
        }
      ]
    },
    {
      "cell_type": "code",
      "metadata": {
        "id": "VWtRervY3j83"
      },
      "source": [
        "#CFに合わせて銘柄を選択\n",
        "\n",
        "import itertools\n",
        "\n",
        "list_mat=set(df_t['maturity'])\n",
        "\n",
        "reqd_index=[]\n",
        "\n",
        "for i in list_mat:\n",
        "  temp_list_mat=df_t[df_t['maturity']==i]['issue_dt']\n",
        "  new_issue=max(temp_list_mat)\n",
        "  ind=df_t[(df_t['maturity']==i) & (df_t['issue_dt']==new_issue)].index.tolist()\n",
        "  reqd_index.append(ind)\n",
        "\n",
        "reqd_index=list(itertools.chain.from_iterable(reqd_index))\n",
        "\n",
        "df_select=df_t.reindex(index=reqd_index).sort_values('maturity')\n",
        "df_select=df_select[df_select['maturity']<='2031-2-28']\n",
        "\n",
        "\n",
        "list_mat=set(df_select['maturity'])\n"
      ],
      "execution_count": 41,
      "outputs": []
    },
    {
      "cell_type": "code",
      "metadata": {
        "id": "CMpYQDRqSgCZ",
        "tags": []
      },
      "source": [
        "settlement_date = dt.date(2021,3,9)\n",
        "\n",
        "cashflow_list=[]\n",
        "cleanprice_list=[]\n",
        "acc_list=[]\n",
        "\n",
        "for row in df_select.itertuples():\n",
        "\n",
        "  issue_date = dt.date(row.issue_dt.year,row.issue_dt.month,row.issue_dt.day)\n",
        "  first_coupon_date = dt.date(row.nxt_cpn_dt.year,row.nxt_cpn_dt.month,row.nxt_cpn_dt.day)\n",
        "  maturity_date = dt.date(row.maturity.year,row.maturity.month,row.maturity.day)\n",
        "  face_value = 100\n",
        "  reoffer_yield = row.yield_bql\n",
        "  coupon_rate = row.coupon\n",
        "  first_coupon_type = \"REGULAR\"\n",
        "  coupon_frequency = \"SEMI-ANNUAL\"\n",
        "  day_count_convention = \"ACTUAL/ACTUAL\"\n",
        "  redemption_rate = 100\n",
        "\n",
        "  test_bond = fixed_bond(issue_date,settlement_date,first_coupon_date, maturity_date,face_value,reoffer_yield,coupon_rate, first_coupon_type,coupon_frequency,day_count_convention,redemption_rate)\n",
        "  \n",
        "  cashflow_list.append([test_bond.cash_flow_dates,test_bond.cash_flow_amounts])\n",
        "  cleanprice_list.append(test_bond.reoffer_price)\n",
        "  acc_list.append(test_bond.accrued_interest)\n",
        "\n"
      ],
      "execution_count": 42,
      "outputs": []
    },
    {
      "cell_type": "code",
      "metadata": {
        "id": "N8FcEvW_rWWU"
      },
      "source": [
        "list_mat=list(map(lambda x:dt.date(x.year,x.month,x.day),list(list_mat)))\n",
        "list_mat=sorted(list_mat)"
      ],
      "execution_count": 43,
      "outputs": []
    },
    {
      "cell_type": "code",
      "metadata": {
        "id": "z5Hz6HbF6S_U"
      },
      "source": [
        "cashflow_matrix=[]\n",
        "extend_cashflow=[0]*len(list_mat)\n",
        "\n",
        "\n",
        "for j in range(len(cashflow_list)):\n",
        "\n",
        "    for i in range(len(cashflow_list[j][0])):\n",
        "        h=list_mat.index(cashflow_list[j][0][i])\n",
        "        extend_cashflow[h]=cashflow_list[j][1][i]\n",
        "\n",
        "    cashflow_matrix.append(extend_cashflow)\n",
        "    extend_cashflow=[0]*len(list_mat)\n",
        "\n",
        "extend_cashflow=np.array(extend_cashflow)"
      ],
      "execution_count": 44,
      "outputs": []
    },
    {
      "cell_type": "code",
      "metadata": {
        "id": "oS8ms2p86S_U"
      },
      "source": [
        "inv_cashflow_matrix=np.linalg.inv(cashflow_matrix)\n",
        "discountF_list=np.dot(np.linalg.inv(cashflow_matrix),cleanprice_list)"
      ],
      "execution_count": 45,
      "outputs": []
    },
    {
      "cell_type": "code",
      "metadata": {
        "id": "KYexMgwV6S_U",
        "colab": {
          "base_uri": "https://localhost:8080/",
          "height": 437
        },
        "outputId": "ff048c99-fd35-415e-8d3c-ab6e87cc7a80"
      },
      "source": [
        "import matplotlib.pyplot as plt\n",
        "import seaborn as sns\n",
        "sns.set()\n",
        "sns.set_style('whitegrid')\n",
        "\n",
        "x=list_mat\n",
        "y=discountF_list\n",
        "\n",
        "plt.plot_date(x, y,linestyle ='solid')\n",
        "plt.gcf().set_size_inches(8, 6)\n",
        "plt.tight_layout()\n",
        "plt.show()"
      ],
      "execution_count": 71,
      "outputs": [
        {
          "output_type": "display_data",
          "data": {
            "image/png": "[encoded data removed]",
            "text/plain": [
              "<Figure size 576x432 with 1 Axes>"
            ]
          },
          "metadata": {
            "tags": []
          }
        }
      ]
    },
    {
      "cell_type": "code",
      "metadata": {
        "id": "AjBYOyVmTJe4",
        "outputId": "8c8dc5df-a6c5-4b3c-cc1b-cfb76eaf8cb2",
        "colab": {
          "base_uri": "https://localhost:8080/",
          "height": 703
        }
      },
      "source": [
        "from scipy.interpolate import UnivariateSpline\r\n",
        "\r\n",
        "X= np.array([(x-settlement_date).days for x in list_mat])\r\n",
        "x=X\r\n",
        "y=discountF_list\r\n",
        "\r\n",
        "plt.plot(X, y, 'ro', ms=3)\r\n",
        "\r\n",
        "spl = UnivariateSpline(X, y)\r\n",
        "xs = np.linspace(0, 3600, 1000)\r\n",
        "plt.plot(xs, spl(xs), 'g', lw=3)\r\n",
        "\r\n",
        "# spl.set_smoothing_factor(0.5)\r\n",
        "# plt.plot(xs, spl(xs), 'b', lw=3)\r\n",
        "\r\n",
        "plt.gcf().set_size_inches(16, 12)\r\n",
        "\r\n",
        "plt.show()\r\n"
      ],
      "execution_count": 89,
      "outputs": [
        {
          "output_type": "display_data",
          "data": {
            "image/png": "[encoded data removed]",
            "text/plain": [
              "<Figure size 1152x864 with 1 Axes>"
            ]
          },
          "metadata": {
            "tags": []
          }
        }
      ]
    },
    {
      "cell_type": "code",
      "metadata": {
        "id": "uaiGE2nOhOB2",
        "outputId": "431ced0b-b5ab-4185-d85d-6b5a7575d85b",
        "colab": {
          "base_uri": "https://localhost:8080/"
        }
      },
      "source": [
        "!pip install csaps"
      ],
      "execution_count": 74,
      "outputs": [
        {
          "output_type": "stream",
          "text": [
            "Collecting csaps\n",
            "  Downloading https://files.pythonhosted.org/packages/ab/92/c7323d7bab15541d4009ca3356769ac7a1ddf5f6b5853d51066e817d3d65/csaps-1.0.3-py3-none-any.whl\n",
            "Requirement already satisfied: numpy<1.20.0,>=1.11.0 in /usr/local/lib/python3.7/dist-packages (from csaps) (1.19.5)\n",
            "Requirement already satisfied: scipy<1.7.0,>=1.0.0 in /usr/local/lib/python3.7/dist-packages (from csaps) (1.4.1)\n",
            "Installing collected packages: csaps\n",
            "Successfully installed csaps-1.0.3\n"
          ],
          "name": "stdout"
        }
      ]
    },
    {
      "cell_type": "code",
      "metadata": {
        "id": "QSgh6jjkhEce",
        "outputId": "e2024fb6-018c-484a-c0df-85eebde242dc",
        "colab": {
          "base_uri": "https://localhost:8080/",
          "height": 739
        }
      },
      "source": [
        "from csaps import csaps\r\n",
        "\r\n",
        "\r\n",
        "xi = np.linspace(X[0], X[-1], 150)\r\n",
        "yi = csaps(x, y, xi, smooth=1)\r\n",
        "\r\n",
        "plt.gcf().set_size_inches(16, 12)\r\n",
        "\r\n",
        "plt.plot(x, y, 'o', xi, yi, '-')"
      ],
      "execution_count": 99,
      "outputs": [
        {
          "output_type": "execute_result",
          "data": {
            "text/plain": [
              "[<matplotlib.lines.Line2D at 0x7f4e12260790>,\n",
              " <matplotlib.lines.Line2D at 0x7f4e12260990>]"
            ]
          },
          "metadata": {
            "tags": []
          },
          "execution_count": 99
        },
        {
          "output_type": "display_data",
          "data": {
            "image/png": "[encoded data removed]",
            "text/plain": [
              "<Figure size 1152x864 with 1 Axes>"
            ]
          },
          "metadata": {
            "tags": []
          }
        }
      ]
    },
    {
      "cell_type": "code",
      "metadata": {
        "id": "Lc-Jg5KllRia",
        "outputId": "e1a802a1-bd44-4a62-a888-a72dd7103259",
        "colab": {
          "base_uri": "https://localhost:8080/",
          "height": 721
        }
      },
      "source": [
        "plt.plot(x, y, 'o:')\r\n",
        "yi_0 = csaps(x, y, xi, smooth=0)\r\n",
        "yi_2=csaps(x,y,xi,smooth=0.5)\r\n",
        "yi_1 = csaps(x, y, xi, smooth=1)\r\n",
        "\r\n",
        "plt.plot(xi, yi_0, '-', label='smooth=0')\r\n",
        "plt.plot(xi,yi_2,'-',label='smooth=0.5')\r\n",
        "plt.plot(xi, yi_1, '-', label='smooth=1')\r\n",
        "plt.gcf().set_size_inches(16, 12)\r\n",
        "plt.legend()"
      ],
      "execution_count": 104,
      "outputs": [
        {
          "output_type": "execute_result",
          "data": {
            "text/plain": [
              "<matplotlib.legend.Legend at 0x7f4e124c4ad0>"
            ]
          },
          "metadata": {
            "tags": []
          },
          "execution_count": 104
        },
        {
          "output_type": "display_data",
          "data": {
            "image/png": "[encoded data removed]",
            "text/plain": [
              "<Figure size 1152x864 with 1 Axes>"
            ]
          },
          "metadata": {
            "tags": []
          }
        }
      ]
    },
    {
      "cell_type": "code",
      "metadata": {
        "id": "N8UapTOWlRfC"
      },
      "source": [
        ""
      ],
      "execution_count": null,
      "outputs": []
    },
    {
      "cell_type": "code",
      "metadata": {
        "id": "BhT5K5Fq6S_U"
      },
      "source": [
        "def yield_to_price(y,coupon,remaining):\n",
        "    x=(1+y/200)^(2*remaining)\n",
        "    price=(coupon*100/y)*(x-1)/x+100/x\n",
        "    return price\n",
        "\n",
        "\n",
        "def calc_reamainig(settle,maturity):\n",
        "    n=settle-maturity\n",
        "    return n\n",
        "\n",
        "def cacl_fwd()"
      ],
      "execution_count": 47,
      "outputs": []
    },
    {
      "cell_type": "code",
      "metadata": {
        "id": "Hxdmagsk6S_V",
        "colab": {
          "base_uri": "https://localhost:8080/",
          "height": 245
        },
        "outputId": "5a985bae-48bf-4e6c-899d-cab864c8d3d9"
      },
      "source": [
        "x=list_mat\n",
        "y=np.array(cleanprice_list2)-np.array(cleanprice_list)\n",
        "\n",
        "plt.plot_date(x, y,linestyle ='solid')\n",
        "plt.gcf().set_size_inches(8, 6)\n",
        "plt.tight_layout()\n",
        "plt.show()"
      ],
      "execution_count": 48,
      "outputs": [
        {
          "output_type": "error",
          "ename": "NameError",
          "evalue": "ignored",
          "traceback": [
            "\u001b[0;31m---------------------------------------------------------------------------\u001b[0m",
            "\u001b[0;31mNameError\u001b[0m                                 Traceback (most recent call last)",
            "\u001b[0;32m<ipython-input-48-c14a13cbe3b9>\u001b[0m in \u001b[0;36m<module>\u001b[0;34m()\u001b[0m\n\u001b[1;32m      1\u001b[0m \u001b[0mx\u001b[0m\u001b[0;34m=\u001b[0m\u001b[0mlist_mat\u001b[0m\u001b[0;34m\u001b[0m\u001b[0;34m\u001b[0m\u001b[0m\n\u001b[0;32m----> 2\u001b[0;31m \u001b[0my\u001b[0m\u001b[0;34m=\u001b[0m\u001b[0mnp\u001b[0m\u001b[0;34m.\u001b[0m\u001b[0marray\u001b[0m\u001b[0;34m(\u001b[0m\u001b[0mcleanprice_list2\u001b[0m\u001b[0;34m)\u001b[0m\u001b[0;34m-\u001b[0m\u001b[0mnp\u001b[0m\u001b[0;34m.\u001b[0m\u001b[0marray\u001b[0m\u001b[0;34m(\u001b[0m\u001b[0mcleanprice_list\u001b[0m\u001b[0;34m)\u001b[0m\u001b[0;34m\u001b[0m\u001b[0;34m\u001b[0m\u001b[0m\n\u001b[0m\u001b[1;32m      3\u001b[0m \u001b[0;34m\u001b[0m\u001b[0m\n\u001b[1;32m      4\u001b[0m \u001b[0mplt\u001b[0m\u001b[0;34m.\u001b[0m\u001b[0mplot_date\u001b[0m\u001b[0;34m(\u001b[0m\u001b[0mx\u001b[0m\u001b[0;34m,\u001b[0m \u001b[0my\u001b[0m\u001b[0;34m,\u001b[0m\u001b[0mlinestyle\u001b[0m \u001b[0;34m=\u001b[0m\u001b[0;34m'solid'\u001b[0m\u001b[0;34m)\u001b[0m\u001b[0;34m\u001b[0m\u001b[0;34m\u001b[0m\u001b[0m\n\u001b[1;32m      5\u001b[0m \u001b[0mplt\u001b[0m\u001b[0;34m.\u001b[0m\u001b[0mgcf\u001b[0m\u001b[0;34m(\u001b[0m\u001b[0;34m)\u001b[0m\u001b[0;34m.\u001b[0m\u001b[0mset_size_inches\u001b[0m\u001b[0;34m(\u001b[0m\u001b[0;36m8\u001b[0m\u001b[0;34m,\u001b[0m \u001b[0;36m6\u001b[0m\u001b[0;34m)\u001b[0m\u001b[0;34m\u001b[0m\u001b[0;34m\u001b[0m\u001b[0m\n",
            "\u001b[0;31mNameError\u001b[0m: name 'cleanprice_list2' is not defined"
          ]
        }
      ]
    },
    {
      "cell_type": "code",
      "metadata": {
        "id": "xDAwqFmT6S_V"
      },
      "source": [
        "#df['f_cusip'].to_csv('cusip.csv')"
      ],
      "execution_count": null,
      "outputs": []
    }
  ]
}