{
  "nbformat": 4,
  "nbformat_minor": 0,
  "metadata": {
    "kernelspec": {
      "display_name": "Python 3",
      "language": "python",
      "name": "python3"
    },
    "language_info": {
      "codemirror_mode": {
        "name": "ipython",
        "version": 3
      },
      "file_extension": ".py",
      "mimetype": "text/x-python",
      "name": "python",
      "nbconvert_exporter": "python",
      "pygments_lexer": "ipython3",
      "version": "3.8.6-final"
    },
    "colab": {
      "name": "FIXED_BOND_PRICER.ipynb",
      "provenance": [],
      "include_colab_link": true
    }
  },
  "cells": [
    {
      "cell_type": "markdown",
      "metadata": {
        "id": "view-in-github",
        "colab_type": "text"
      },
      "source": [
        "<a href=\"https://colab.research.google.com/github/KN196883/bond_pricer/blob/master/FIXED_BOND_PRICER.ipynb\" target=\"_parent\"><img src=\"https://colab.research.google.com/assets/colab-badge.svg\" alt=\"Open In Colab\"/></a>"
      ]
    },
    {
      "cell_type": "markdown",
      "metadata": {
        "id": "kbqod2O0ipPC"
      },
      "source": [
        "Python class and jupyter iPython notebook for pricing a fixed coupon bond"
      ]
    },
    {
      "cell_type": "code",
      "metadata": {
        "id": "GZSt1nYripPD"
      },
      "source": [
        "import pandas as pd\n",
        "import numpy as np\n",
        "import math as m\n",
        "import datetime as dt\n",
        "from dateutil.relativedelta import relativedelta\n",
        "import calendar\n",
        "\n",
        "##################################################################################\n",
        "#Adding daycount convention functions\n",
        "##################################################################################\n",
        "def day_count_actual_360(start_date, end_date):\n",
        "    #Returns number of days between start_date and end_date, using Actual/360 convention\n",
        "    return (end_date - start_date).days\n",
        "\n",
        "def day_count_actual_365(start_date, end_date):\n",
        "    #Returns number of days between start_date and end_date, using Actual/365 convention\n",
        "    return (end_date - start_date).days\n",
        "\n",
        "def day_count_actual_actual(start_date, end_date):\n",
        "    #Returns number of days between start_date and end_date, using Actual/Actual convention\n",
        "    return (end_date - start_date).days\n",
        "\n",
        "def day_count_30_360(start_date, end_date):\n",
        "    #Returns number of days between start_date and end_date, using Thirty/360 convention\n",
        "    d1 = min(30, start_date.day)\n",
        "    d2 = min(d1, end_date.day) if d1 == 30 else end_date.day\n",
        "    return 360*(end_date.year - start_date.year) + 30*(end_date.month - start_date.month) + d2 - d1\n",
        "\n",
        "def day_count_30E_360(start_date, end_date):\n",
        "    #Returns number of days between start_date and end_date, using ThirtyE/360 convention\n",
        "    d1 = min(30, start_date.day)\n",
        "    d2 = min(30, end_date.day)\n",
        "    return 360 * (end_date.year - start_date.year) + 30 * (end_date.month - start_date.month) + d2 - d1\n",
        "\n",
        "\n",
        "\n",
        "\n",
        "\n",
        "#######################################################################\n",
        "#月末日計算(2/28応答日用)\n",
        "#######################################################################\n",
        "\n",
        "def get_last_date(dt):\n",
        "    return dt.replace(day=calendar.monthrange(dt.year, dt.month)[1])\n",
        "\n",
        "\n",
        "\n",
        "\n",
        "  \n",
        "\n",
        "class fixed_bond:\n",
        "    def __init__(self, issue_date, settlement_date, first_coupon_date, maturity_date, face_value, reoffer_yield, coupon_rate, first_coupon_type, coupon_frequency, day_count_convention, redemption_rate):\n",
        "        ##################################################################################\n",
        "        #Setting up inital attributes\n",
        "        ##################################################################################\n",
        "        self.issue_date = issue_date\n",
        "        self.settlement_date = settlement_date\n",
        "        self.first_coupon_date = first_coupon_date\n",
        "        self.maturity_date = maturity_date\n",
        "        self.face_value = face_value\n",
        "        self.reoffer_yield = reoffer_yield\n",
        "        self.coupon_rate = coupon_rate\n",
        "        self.first_coupon_type = first_coupon_type\n",
        "        self.coupon_frequency = coupon_frequency\n",
        "        self.day_count_convention = day_count_convention\n",
        "        self.redemption_rate = redemption_rate\n",
        "\n",
        "        ##################################################################################\n",
        "        #Parsing input values\n",
        "        ##################################################################################\n",
        "        #Converting reoffer yield to percentage\n",
        "        self.reoffer_yield = self.reoffer_yield/100\n",
        "\n",
        "        #Converting coupon rate to percentage\n",
        "        self.coupon_rate = self.coupon_rate/100\n",
        "\n",
        "        #parsing coupon frequency\n",
        "        if self.coupon_frequency == \"ANNUAL\":\n",
        "            self.coupon_frequency_modifier = 1\n",
        "        elif self.coupon_frequency == \"SEMI-ANNUAL\":\n",
        "            self.coupon_frequency_modifier = 2\n",
        "        elif self.coupon_frequency == \"QUARTERLY\":\n",
        "            self.coupon_frequency_modifier = 4\n",
        "        elif self.coupon_frequency_modifier == \"MONTHLY\":\n",
        "            self.coupon_frequency_modifier = 12\n",
        "        else:\n",
        "            self.coupon_frequency_modifier = 1\n",
        "            #need to add error handling\n",
        "\n",
        "        #Converting redemption rate to percentage\n",
        "        self.redemption_rate = self.redemption_rate/100\n",
        "\n",
        "        #Generating accrual start date\n",
        "        time_modifier = int(12/self.coupon_frequency_modifier)\n",
        "\n",
        "        # if self.first_coupon_type == \"REGULAR\":\n",
        "        #     self.accrual_start_date = self.settlement_date\n",
        "        # else:\n",
        "        #     self.accrual_start_date = self.first_coupon_date - relativedelta(months=time_modifier)\n",
        "\n",
        "        self.accrual_start_date=self.first_coupon_date-relativedelta(months=time_modifier)\n",
        "\n",
        "\n",
        "        ##################################################################################\n",
        "        #Generating the columns for the cash flow table\n",
        "        ##################################################################################\n",
        "        #generating cash flow schedule\n",
        "        cash_flow_date = self.first_coupon_date\n",
        "        cash_flow_dates = [cash_flow_date]\n",
        "        self.number_of_periods = 1\n",
        "\n",
        "\n",
        "        ######ここから\n",
        "        if cash_flow_date==get_last_date(cash_flow_date):\n",
        "          eom=1\n",
        "        else:\n",
        "          eom=0        \n",
        "      \n",
        "\n",
        "        while cash_flow_date < maturity_date:\n",
        "            cash_flow_date += relativedelta(months=time_modifier)\n",
        "            if eom==1:\n",
        "              cash_flow_date=get_last_date(cash_flow_date)\n",
        "\n",
        "            cash_flow_dates.append(cash_flow_date)\n",
        "            self.number_of_periods += 1\n",
        "\n",
        "        self.cash_flow_dates = cash_flow_dates\n",
        "\n",
        "      #######ここ\n",
        "\n",
        "\n",
        "        #computing cash flow periods\n",
        "        cash_flow_periods = []\n",
        "        for i in range(self.number_of_periods):\n",
        "            cash_flow_periods.append(i + 1)\n",
        "        self.cash_flow_periods = cash_flow_periods\n",
        "\n",
        "        # computing future cash flows per date\n",
        "        self.coupon_payment = (self.face_value*self.coupon_rate)/self.coupon_frequency_modifier\n",
        "        self.principal_payment = self.face_value * self.redemption_rate\n",
        "\n",
        "        cash_flow_amounts = []\n",
        "        for i in range(self.number_of_periods):\n",
        "            if i == self.number_of_periods - 1:\n",
        "                cash_flow = self.principal_payment + self.coupon_payment\n",
        "            else:\n",
        "                cash_flow = self.coupon_payment\n",
        "\n",
        "            cash_flow_amounts.append(cash_flow)\n",
        "        self.cash_flow_amounts = cash_flow_amounts\n",
        "\n",
        "        #Computing discount rate\n",
        "        self.discount_rate = 1 + (self.reoffer_yield/self.coupon_frequency_modifier)\n",
        "        self.discount_rates = []\n",
        "        for i in range(self.number_of_periods):\n",
        "            self.discount_rates.append(self.discount_rate)\n",
        "\n",
        "        #Computing discount period\n",
        "        if self.first_coupon_type == \"REGULAR\":\n",
        "            self.discount_period = 1\n",
        "            accrued_numerator = day_count_actual_actual(self.accrual_start_date,self.settlement_date)\n",
        "            denominator = day_count_actual_actual(self.accrual_start_date,self.first_coupon_date)\n",
        "            accrued_denominator = denominator\n",
        "            self.accrued_period = accrued_numerator/accrued_denominator\n",
        "            self.accrued_days = accrued_numerator        \n",
        "            self.accrued_interest = self.cash_flow_amounts[0]*self.accrued_period\n",
        "\n",
        "\n",
        "\n",
        "        else:\n",
        "            if self.day_count_convention == \"ACTUAL/ACTUAL\":\n",
        "                numerator = day_count_actual_actual(self.settlement_date,self.first_coupon_date)\n",
        "                denominator = day_count_actual_actual(self.accrual_start_date,self.first_coupon_date)\n",
        "                self.discount_period = numerator/denominator\n",
        "                if self.first_coupon_type == \"FULL SHORT FIRST\":\n",
        "                    accrued_numerator = day_count_actual_actual(self.accrual_start_date,self.settlement_date)\n",
        "                    accrued_denominator = denominator\n",
        "                    self.accrued_period = accrued_numerator/accrued_denominator\n",
        "                    self.accrued_days = accrued_numerator\n",
        "                    self.accrued_interest = self.cash_flow_amounts[0]*self.accrued_period\n",
        "                else:\n",
        "                    self.accrued_period = 0\n",
        "                    self.accrued_days = 0\n",
        "                    self.accrued_interest = 0\n",
        "\n",
        "            elif self.day_count_actual_365 == \"ACTUAL/365\":\n",
        "                numerator = day_count_actual_365(self.settlement_date,self.first_coupon_date)\n",
        "                denominator = 365/self.coupon_frequency_modifier\n",
        "                self.discount_period = numerator/denominator\n",
        "                if self.first_coupon_type == \"FULL SHORT FIRST\":\n",
        "                    accrued_numerator = day_count_actual_actual(self.accrual_start_date,self.settlement_date)\n",
        "                    accrued_denominator = denominator\n",
        "                    self.accrued_period = accrued_numerator/accrued_denominator\n",
        "                    self.accrued_days = accrued_numerator\n",
        "                    self.accrued_interest = self.cash_flow_amounts[0]*self.accrued_period\n",
        "                else:\n",
        "                    self.accrued_period = 0\n",
        "                    self.accrued_days = 0\n",
        "                    self.accrued_interest = 0\n",
        "\n",
        "            elif self.day_count_actual_360 == \"ACTUAL/360\":\n",
        "                numerator = day_count_actual_360(self.settlement_date,self.first_coupon_date)\n",
        "                denominator = 360/self.coupon_frequency_modifier\n",
        "                self.discount_period = numerator/denominator\n",
        "                if self.first_coupon_type == \"FULL SHORT FIRST\":\n",
        "                    accrued_numerator = day_count_actual_actual(self.accrual_start_date,self.settlement_date)\n",
        "                    accrued_denominator = denominator\n",
        "                    self.accrued_period = accrued_numerator/accrued_denominator\n",
        "                    self.accrued_days = accrued_numerator\n",
        "                    self.accrued_interest = self.cash_flow_amounts[0]*self.accrued_period\n",
        "                else:\n",
        "                    self.accrued_period = 0\n",
        "                    self.accrued_days = 0\n",
        "                    self.accrued_interest = 0\n",
        "\n",
        "            elif self.day_count_30_360 == \"30/360\":\n",
        "                numerator = day_count_30_360(self.settlement_date,self.first_coupon_date)\n",
        "                denominator = 360/coupon_frequency_modifier\n",
        "                self.discount_period = numerator/denominator\n",
        "                if self.first_coupon_type == \"FULL SHORT FIRST\":\n",
        "                    accrued_numerator = day_count_actual_actual(self.accrual_start_date,self.settlement_date)\n",
        "                    accrued_denominator = denominator\n",
        "                    self.accrued_period = accrued_numerator/accrued_denominator\n",
        "                    self.accrued_days = accrued_numerator\n",
        "                    self.accrued_interest = self.cash_flow_amounts[0]*self.accrued_period\n",
        "                else:\n",
        "                    self.accrued_period = 0\n",
        "                    self.accrued_days = 0\n",
        "                    self.accrued_interest = 0\n",
        "\n",
        "            elif self.day_count_30E_360 == \"30E/360\":\n",
        "                numerator = day_count_30E_360(self.settlement_date,self.first_coupon_date)\n",
        "                denominator = 360/coupon_frequency_modifier\n",
        "                self.discount_period = numerator/denominator\n",
        "                if self.first_coupon_type == \"FULL SHORT FIRST\":\n",
        "                    accrued_numerator = day_count_actual_actual(self.accrual_start_date,self.settlement_date)\n",
        "                    accrued_denominator = denominator\n",
        "                    self.accrued_period = accrued_numerator/accrued_denominator\n",
        "                    self.accrued_days = accrued_numerator\n",
        "                    self.accrued_interest = self.cash_flow_amounts[0]*self.accrued_period\n",
        "                else:\n",
        "                    self.accrued_period = 0\n",
        "                    self.accrued_days = 0\n",
        "                    self.accrued_interest = 0\n",
        "        \n",
        "        self.discount_periods = []\n",
        "        for i in range(self.number_of_periods):\n",
        "            self.discount_periods.append(self.discount_period+i)\n",
        "\n",
        "        #Adjusting first coupon if it's a full short first\n",
        "        if self.first_coupon_type == \"FULL SHORT FIRST\":\n",
        "            self.cash_flow_amounts[0] = self.coupon_payment\n",
        "        elif self.first_coupon_type != \"REGULAR\":\n",
        "            self.cash_flow_amounts[0] = self.coupon_payment * self.discount_period\n",
        "\n",
        "        #generating a cash flow table and calculating reoffer cash price\n",
        "        #table - coupon number / coupon date / cash flow / discount rate / discount period / npv\n",
        "        df = pd.DataFrame(np.column_stack([self.cash_flow_periods, self.cash_flow_dates, self.cash_flow_amounts, self.discount_rates, self.discount_periods]), \n",
        "                               columns=['coupon number', 'coupon_date', 'cash_flow', 'discount_rate', 'discount_period'])\n",
        "        df['npv'] = (df.cash_flow / (df.discount_rate**df.discount_period))\n",
        "\n",
        "        self.cash_flow_table = df\n",
        "        self.reoffer_price = (self.cash_flow_table.npv.sum()/self.face_value)*100\n",
        "        self.dirty_price = self.reoffer_price + (self.accrued_interest/self.face_value)"
      ],
      "execution_count": 47,
      "outputs": []
    },
    {
      "cell_type": "code",
      "metadata": {
        "id": "9AC1yPAhipPH",
        "colab": {
          "base_uri": "https://localhost:8080/"
        },
        "outputId": "2ef6dbd1-fb9e-45c5-843c-7231ef438e95"
      },
      "source": [
        "##################################################################################\n",
        "#Using the class\n",
        "##################################################################################\n",
        "issue_date = dt.date(2021,2,16)\n",
        "settlement_date = dt.date(2021,2,26)\n",
        "first_coupon_date = dt.date(2021,8,15)\n",
        "maturity_date = dt.date(2031,2,15)\n",
        "face_value = 1000\n",
        "reoffer_yield = 1.399\n",
        "coupon_rate = 1.125\n",
        "first_coupon_type = \"REGULAR\"\n",
        "coupon_frequency = \"SEMI-ANNUAL\"\n",
        "day_count_convention = \"ACTUAL/ACTUAL\"\n",
        "redemption_rate = 100\n",
        "\n",
        "test_bond = fixed_bond(issue_date,settlement_date,first_coupon_date, maturity_date,face_value,reoffer_yield,coupon_rate,first_coupon_type,coupon_frequency,day_count_convention,redemption_rate)\n",
        "\n",
        "print(test_bond.cash_flow_table)\n",
        "print(f\"Reoffer clean price is: {round(test_bond.reoffer_price,3)}%\")\n",
        "print(f\"Days of accrued interest: {test_bond.accrued_days}\")\n",
        "print(f\"Reoffer dirty price is: {round(test_bond.dirty_price,3)}%\")\n",
        "\n",
        "##################################################################################\n",
        "#List of inputs\n",
        "##################################################################################\n",
        "#issue_date, settlement_date, first_coupon_date,maturity_date = datetime objects (yyyy,m,d)\n",
        "#face_value = float\n",
        "#reoffer_yield = for example, a reoffer yield of 2.3% is entered as 2.3\n",
        "#coupon_rate = for example, a coupon of 2.25% is entered as 2.25\n",
        "#first_coupon_type = string: REGULAR, ODD, FULL SHORT FIRST\n",
        "#coupon_frequency = string: ANNUAL, SEMI-ANNUAL, QUARTERLY, MONTHLY\n",
        "#day_count_convention = string: ACTUAL/ACTUAL, ACTUAL/365, ACTUAL/360, 30/360, 30E/360\n",
        "#redemption_rate = for example, a redemption rate of 100% is entered as 100"
      ],
      "execution_count": 48,
      "outputs": [
        {
          "output_type": "stream",
          "text": [
            "   coupon number coupon_date cash_flow discount_rate discount_period      npv\n",
            "0              1  2021-08-15     5.625         1.007               1  5.58593\n",
            "1              2  2022-02-15     5.625         1.007               2  5.54712\n",
            "2              3  2022-08-15     5.625         1.007               3  5.50859\n",
            "3              4  2023-02-15     5.625         1.007               4  5.47033\n",
            "4              5  2023-08-15     5.625         1.007               5  5.43233\n",
            "5              6  2024-02-15     5.625         1.007               6  5.39459\n",
            "6              7  2024-08-15     5.625         1.007               7  5.35712\n",
            "7              8  2025-02-15     5.625         1.007               8  5.31991\n",
            "8              9  2025-08-15     5.625         1.007               9  5.28295\n",
            "9             10  2026-02-15     5.625         1.007              10  5.24625\n",
            "10            11  2026-08-15     5.625         1.007              11  5.20981\n",
            "11            12  2027-02-15     5.625         1.007              12  5.17362\n",
            "12            13  2027-08-15     5.625         1.007              13  5.13768\n",
            "13            14  2028-02-15     5.625         1.007              14    5.102\n",
            "14            15  2028-08-15     5.625         1.007              15  5.06656\n",
            "15            16  2029-02-15     5.625         1.007              16  5.03136\n",
            "16            17  2029-08-15     5.625         1.007              17  4.99641\n",
            "17            18  2030-02-15     5.625         1.007              18   4.9617\n",
            "18            19  2030-08-15     5.625         1.007              19  4.92724\n",
            "19            20  2031-02-15   1005.62         1.007              20  874.762\n",
            "Reoffer clean price is: 97.451%\n",
            "Days of accrued interest: 11\n",
            "Reoffer dirty price is: 97.452%\n"
          ],
          "name": "stdout"
        }
      ]
    },
    {
      "cell_type": "code",
      "metadata": {
        "colab": {
          "base_uri": "https://localhost:8080/"
        },
        "id": "Pxv6GA0jUjr_",
        "outputId": "d63c20bd-6ee4-4442-ef05-e8453c63d07e"
      },
      "source": [
        "##################################################################################\n",
        "#Using the class\n",
        "##################################################################################\n",
        "issue_date = dt.date(2021,2,16)\n",
        "settlement_date = dt.date(2021,3,1)\n",
        "first_coupon_date = dt.date(2021,8,15)\n",
        "maturity_date = dt.date(2031,2,15)\n",
        "face_value = 1000\n",
        "reoffer_yield = 1.405\n",
        "coupon_rate = 1.125\n",
        "first_coupon_type = \"REGULAR\"\n",
        "coupon_frequency = \"SEMI-ANNUAL\"\n",
        "day_count_convention = \"ACTUAL/ACTUAL\"\n",
        "redemption_rate = 100\n",
        "\n",
        "test_bond = fixed_bond(issue_date,settlement_date,first_coupon_date, maturity_date,face_value,reoffer_yield,coupon_rate,first_coupon_type,coupon_frequency,day_count_convention,redemption_rate)\n",
        "\n",
        "print(test_bond.cash_flow_table)\n",
        "print(f\"Reoffer clean price is: {round(test_bond.reoffer_price,3)}%\")\n",
        "print(f\"Days of accrued interest: {test_bond.accrued_days}\")\n",
        "print(f\"Reoffer dirty price is: {round(test_bond.dirty_price,3)}%\")\n",
        "\n",
        "##################################################################################\n",
        "#List of inputs\n",
        "##################################################################################\n",
        "#issue_date, settlement_date, first_coupon_date,maturity_date = datetime objects (yyyy,m,d)\n",
        "#face_value = float\n",
        "#reoffer_yield = for example, a reoffer yield of 2.3% is entered as 2.3\n",
        "#coupon_rate = for example, a coupon of 2.25% is entered as 2.25\n",
        "#first_coupon_type = string: REGULAR, ODD, FULL SHORT FIRST\n",
        "#coupon_frequency = string: ANNUAL, SEMI-ANNUAL, QUARTERLY, MONTHLY\n",
        "#day_count_convention = string: ACTUAL/ACTUAL, ACTUAL/365, ACTUAL/360, 30/360, 30E/360\n",
        "#redemption_rate = for example, a redemption rate of 100% is entered as 100"
      ],
      "execution_count": 49,
      "outputs": [
        {
          "output_type": "stream",
          "text": [
            "   coupon number coupon_date cash_flow discount_rate discount_period      npv\n",
            "0              1  2021-08-15     5.625       1.00703               1  5.58576\n",
            "1              2  2022-02-15     5.625       1.00703               2  5.54679\n",
            "2              3  2022-08-15     5.625       1.00703               3   5.5081\n",
            "3              4  2023-02-15     5.625       1.00703               4  5.46967\n",
            "4              5  2023-08-15     5.625       1.00703               5  5.43152\n",
            "5              6  2024-02-15     5.625       1.00703               6  5.39363\n",
            "6              7  2024-08-15     5.625       1.00703               7    5.356\n",
            "7              8  2025-02-15     5.625       1.00703               8  5.31864\n",
            "8              9  2025-08-15     5.625       1.00703               9  5.28154\n",
            "9             10  2026-02-15     5.625       1.00703              10  5.24469\n",
            "10            11  2026-08-15     5.625       1.00703              11  5.20811\n",
            "11            12  2027-02-15     5.625       1.00703              12  5.17177\n",
            "12            13  2027-08-15     5.625       1.00703              13   5.1357\n",
            "13            14  2028-02-15     5.625       1.00703              14  5.09987\n",
            "14            15  2028-08-15     5.625       1.00703              15  5.06429\n",
            "15            16  2029-02-15     5.625       1.00703              16  5.02896\n",
            "16            17  2029-08-15     5.625       1.00703              17  4.99388\n",
            "17            18  2030-02-15     5.625       1.00703              18  4.95904\n",
            "18            19  2030-08-15     5.625       1.00703              19  4.92445\n",
            "19            20  2031-02-15   1005.62       1.00703              20  874.241\n",
            "Reoffer clean price is: 97.396%\n",
            "Days of accrued interest: 14\n",
            "Reoffer dirty price is: 97.397%\n"
          ],
          "name": "stdout"
        }
      ]
    },
    {
      "cell_type": "code",
      "metadata": {
        "id": "DZUQMaD06S_R",
        "outputId": "2a499295-4d5b-4399-c443-a62373fe3fa9",
        "colab": {
          "base_uri": "https://localhost:8080/"
        }
      },
      "source": [
        "test_bond.accrued_interest"
      ],
      "execution_count": 50,
      "outputs": [
        {
          "output_type": "execute_result",
          "data": {
            "text/plain": [
              "0.43508287292817677"
            ]
          },
          "metadata": {
            "tags": []
          },
          "execution_count": 50
        }
      ]
    },
    {
      "cell_type": "code",
      "metadata": {
        "colab": {
          "base_uri": "https://localhost:8080/"
        },
        "id": "krz5Nc9SKfM9",
        "outputId": "37beb37f-f212-44eb-80a0-fe8416de7e09"
      },
      "source": [
        "#Githubのcsvをurlから読み込み\n",
        "import urllib.request\n",
        "from io import StringIO\n",
        "\n",
        "url = 'https://raw.githubusercontent.com/KN196883/bond_pricer/master/usbondall2.csv'\n",
        "\n",
        "#csvを読み込む関数\n",
        "def read_csv(url):\n",
        "    print(url)\n",
        "    res = urllib.request.urlopen(url)\n",
        "    res = res.read().decode(\"utf-8\")\n",
        "    df = pd.read_csv(StringIO( res) )\n",
        "    return df\n",
        "\n",
        "#実行\n",
        "df=read_csv(url)\n",
        "df=df.drop(['発行体名','Unnamed: 16'],axis=1)"
      ],
      "execution_count": 51,
      "outputs": [
        {
          "output_type": "stream",
          "text": [
            "https://raw.githubusercontent.com/KN196883/bond_pricer/master/usbondall2.csv\n"
          ],
          "name": "stdout"
        }
      ]
    },
    {
      "cell_type": "code",
      "metadata": {
        "id": "1N_OzJaACUYu",
        "outputId": "eeec7cea-5b8a-43ad-9c19-3eae2aad270d",
        "colab": {
          "base_uri": "https://localhost:8080/",
          "height": 415
        }
      },
      "source": [
        "priceDF=pd.read_csv('https://raw.githubusercontent.com/KN196883/bond_pricer/master/data0304',sep='\\t',\r\n",
        "                    names=('cusip','coupon','maturity','price','yield'))\r\n",
        "priceDF"
      ],
      "execution_count": 59,
      "outputs": [
        {
          "output_type": "execute_result",
          "data": {
            "text/html": [
              "<div>\n",
              "<style scoped>\n",
              "    .dataframe tbody tr th:only-of-type {\n",
              "        vertical-align: middle;\n",
              "    }\n",
              "\n",
              "    .dataframe tbody tr th {\n",
              "        vertical-align: top;\n",
              "    }\n",
              "\n",
              "    .dataframe thead th {\n",
              "        text-align: right;\n",
              "    }\n",
              "</style>\n",
              "<table border=\"1\" class=\"dataframe\">\n",
              "  <thead>\n",
              "    <tr style=\"text-align: right;\">\n",
              "      <th></th>\n",
              "      <th>cusip</th>\n",
              "      <th>coupon</th>\n",
              "      <th>maturity</th>\n",
              "      <th>price</th>\n",
              "      <th>yield</th>\n",
              "    </tr>\n",
              "  </thead>\n",
              "  <tbody>\n",
              "    <tr>\n",
              "      <th>0</th>\n",
              "      <td>912796C23 GOVT</td>\n",
              "      <td>0.000</td>\n",
              "      <td>2021-03-02</td>\n",
              "      <td>0.019678</td>\n",
              "      <td>0.026468</td>\n",
              "    </tr>\n",
              "    <tr>\n",
              "      <th>1</th>\n",
              "      <td>9127964F3 GOVT</td>\n",
              "      <td>0.000</td>\n",
              "      <td>2021-03-04</td>\n",
              "      <td>0.026361</td>\n",
              "      <td>0.029406</td>\n",
              "    </tr>\n",
              "    <tr>\n",
              "      <th>2</th>\n",
              "      <td>912796C72 GOVT</td>\n",
              "      <td>0.000</td>\n",
              "      <td>2021-03-09</td>\n",
              "      <td>0.022438</td>\n",
              "      <td>0.024445</td>\n",
              "    </tr>\n",
              "    <tr>\n",
              "      <th>3</th>\n",
              "      <td>9127964M8 GOVT</td>\n",
              "      <td>0.000</td>\n",
              "      <td>2021-03-11</td>\n",
              "      <td>0.028178</td>\n",
              "      <td>0.029256</td>\n",
              "    </tr>\n",
              "    <tr>\n",
              "      <th>4</th>\n",
              "      <td>912796C80 GOVT</td>\n",
              "      <td>0.000</td>\n",
              "      <td>2021-03-16</td>\n",
              "      <td>0.024862</td>\n",
              "      <td>0.026902</td>\n",
              "    </tr>\n",
              "    <tr>\n",
              "      <th>...</th>\n",
              "      <td>...</td>\n",
              "      <td>...</td>\n",
              "      <td>...</td>\n",
              "      <td>...</td>\n",
              "      <td>...</td>\n",
              "    </tr>\n",
              "    <tr>\n",
              "      <th>900</th>\n",
              "      <td>912810SL3 GOVT</td>\n",
              "      <td>2.000</td>\n",
              "      <td>2050-02-15</td>\n",
              "      <td>93.9375</td>\n",
              "      <td>2.289643</td>\n",
              "    </tr>\n",
              "    <tr>\n",
              "      <th>901</th>\n",
              "      <td>912810SN9 GOVT</td>\n",
              "      <td>1.250</td>\n",
              "      <td>2050-05-15</td>\n",
              "      <td>77.54688</td>\n",
              "      <td>2.313866</td>\n",
              "    </tr>\n",
              "    <tr>\n",
              "      <th>902</th>\n",
              "      <td>912810SP4 GOVT</td>\n",
              "      <td>1.375</td>\n",
              "      <td>2050-08-15</td>\n",
              "      <td>80.13281</td>\n",
              "      <td>2.309977</td>\n",
              "    </tr>\n",
              "    <tr>\n",
              "      <th>903</th>\n",
              "      <td>912810SS8 GOVT</td>\n",
              "      <td>1.625</td>\n",
              "      <td>2050-11-15</td>\n",
              "      <td>85.48438</td>\n",
              "      <td>2.303690</td>\n",
              "    </tr>\n",
              "    <tr>\n",
              "      <th>904</th>\n",
              "      <td>912810SU3 GOVT</td>\n",
              "      <td>1.875</td>\n",
              "      <td>2051-02-15</td>\n",
              "      <td>90.98438</td>\n",
              "      <td>2.293338</td>\n",
              "    </tr>\n",
              "  </tbody>\n",
              "</table>\n",
              "<p>905 rows × 5 columns</p>\n",
              "</div>"
            ],
            "text/plain": [
              "              cusip  coupon    maturity     price     yield\n",
              "0    912796C23 GOVT   0.000  2021-03-02  0.019678  0.026468\n",
              "1    9127964F3 GOVT   0.000  2021-03-04  0.026361  0.029406\n",
              "2    912796C72 GOVT   0.000  2021-03-09  0.022438  0.024445\n",
              "3    9127964M8 GOVT   0.000  2021-03-11  0.028178  0.029256\n",
              "4    912796C80 GOVT   0.000  2021-03-16  0.024862  0.026902\n",
              "..              ...     ...         ...       ...       ...\n",
              "900  912810SL3 GOVT   2.000  2050-02-15   93.9375  2.289643\n",
              "901  912810SN9 GOVT   1.250  2050-05-15  77.54688  2.313866\n",
              "902  912810SP4 GOVT   1.375  2050-08-15  80.13281  2.309977\n",
              "903  912810SS8 GOVT   1.625  2050-11-15  85.48438  2.303690\n",
              "904  912810SU3 GOVT   1.875  2051-02-15  90.98438  2.293338\n",
              "\n",
              "[905 rows x 5 columns]"
            ]
          },
          "metadata": {
            "tags": []
          },
          "execution_count": 59
        }
      ]
    },
    {
      "cell_type": "code",
      "metadata": {
        "id": "JsH_yjFUJ-c9"
      },
      "source": [
        ""
      ],
      "execution_count": null,
      "outputs": []
    },
    {
      "cell_type": "code",
      "metadata": {
        "id": "9MvttXIDyuk1"
      },
      "source": [
        "#日付の型変換\n",
        "\n",
        "df_t=df[df['ﾃｨｯｶｰ']=='T'].sort_values('f_maturity').reset_index(drop=True)\n",
        "tran_list=['満期','初回利払日','前回利払日','次回利払日','発行日','f_maturity']\n",
        "\n",
        "for i in tran_list:\n",
        "  df_t[i]=pd.to_datetime(df_t[i])\n"
      ],
      "execution_count": 32,
      "outputs": []
    },
    {
      "cell_type": "code",
      "metadata": {
        "id": "VWtRervY3j83"
      },
      "source": [
        "#CFに合わせて銘柄を選択\n",
        "\n",
        "import itertools\n",
        "\n",
        "list_mat=set(df_t['f_maturity'])\n",
        "\n",
        "reqd_index=[]\n",
        "\n",
        "for i in list_mat:\n",
        "  temp_list_mat=df_t[df_t['f_maturity']==i]['発行日']\n",
        "  new_issue=max(temp_list_mat)\n",
        "  ind=df_t[(df_t['f_maturity']==i) & (df_t['発行日']==new_issue)].index.tolist()\n",
        "  reqd_index.append(ind)\n",
        "\n",
        "reqd_index=list(itertools.chain.from_iterable(reqd_index))\n",
        "\n",
        "df_select=df_t.reindex(index=reqd_index).sort_values('f_maturity')\n",
        "df_select=df_select[df_select['f_maturity']<='2031-2-28']\n",
        "\n",
        "\n",
        "list_mat=set(df_select['f_maturity'])\n"
      ],
      "execution_count": 33,
      "outputs": []
    },
    {
      "cell_type": "code",
      "metadata": {
        "id": "CMpYQDRqSgCZ",
        "tags": []
      },
      "source": [
        "settlement_date = dt.date(2021,2,26)\n",
        "\n",
        "cashflow_list=[]\n",
        "cleanprice_list=[]\n",
        "\n",
        "for row in df_select.itertuples():\n",
        "\n",
        "  issue_date = dt.date(row.発行日.year,row.発行日.month,row.発行日.day)\n",
        "  first_coupon_date = dt.date(row.次回利払日.year,row.次回利払日.month,row.次回利払日.day)\n",
        "  maturity_date = dt.date(row.f_maturity.year,row.f_maturity.month,row.f_maturity.day)\n",
        "  face_value = 100\n",
        "  reoffer_yield = row.bval_y\n",
        "  coupon_rate = row.f_coupon\n",
        "  first_coupon_type = \"REGULAR\"\n",
        "  coupon_frequency = \"SEMI-ANNUAL\"\n",
        "  day_count_convention = \"ACTUAL/ACTUAL\"\n",
        "  redemption_rate = 100\n",
        "\n",
        "  test_bond = fixed_bond(issue_date,settlement_date,first_coupon_date, maturity_date,face_value,reoffer_yield,coupon_rate, first_coupon_type,coupon_frequency,day_count_convention,redemption_rate)\n",
        "  \n",
        "  cashflow_list.append([test_bond.cash_flow_dates,test_bond.cash_flow_amounts])\n",
        "  cleanprice_list.append(test_bond.reoffer_price)\n",
        "\n",
        "#clean priceのソースを何にするか・・・\n",
        "cleanprice_list2=cleanprice_list\n",
        "cleanprice_list=df_select['bval_p'].values.tolist()"
      ],
      "execution_count": 34,
      "outputs": []
    },
    {
      "cell_type": "code",
      "metadata": {
        "id": "N8FcEvW_rWWU"
      },
      "source": [
        "list_mat=list(map(lambda x:dt.date(x.year,x.month,x.day),list(list_mat)))\n",
        "list_mat=sorted(list_mat)"
      ],
      "execution_count": 35,
      "outputs": []
    },
    {
      "cell_type": "code",
      "metadata": {
        "id": "z5Hz6HbF6S_U"
      },
      "source": [
        "cashflow_matrix=[]\n",
        "extend_cashflow=[0]*len(list_mat)\n",
        "\n",
        "test_cashflow=cashflow_list[100]\n",
        "\n",
        "for j in range(len(cashflow_list)):\n",
        "\n",
        "    for i in range(len(cashflow_list[j][0])):\n",
        "        h=list_mat.index(cashflow_list[j][0][i])\n",
        "        extend_cashflow[h]=cashflow_list[j][1][i]\n",
        "\n",
        "    cashflow_matrix.append(extend_cashflow)\n",
        "    extend_cashflow=[0]*len(list_mat)\n",
        "\n",
        "extend_cashflow=np.array(extend_cashflow)"
      ],
      "execution_count": 36,
      "outputs": []
    },
    {
      "cell_type": "code",
      "metadata": {
        "id": "oS8ms2p86S_U"
      },
      "source": [
        "inv_cashflow_matrix=np.linalg.inv(cashflow_matrix)\n",
        "discountF_list=np.dot(np.linalg.inv(cashflow_matrix),cleanprice_list)"
      ],
      "execution_count": 37,
      "outputs": []
    },
    {
      "cell_type": "code",
      "metadata": {
        "id": "KYexMgwV6S_U",
        "outputId": "c74101e0-79f7-4008-ef47-f8b2f47136d0",
        "colab": {
          "base_uri": "https://localhost:8080/",
          "height": 437
        }
      },
      "source": [
        "import matplotlib.pyplot as plt\n",
        "import seaborn as sns\n",
        "sns.set()\n",
        "\n",
        "x=list_mat\n",
        "y=discountF_list\n",
        "\n",
        "plt.plot_date(x, y,linestyle ='solid')\n",
        "plt.gcf().set_size_inches(8, 6)\n",
        "plt.tight_layout()\n",
        "plt.show()"
      ],
      "execution_count": 38,
      "outputs": [
        {
          "output_type": "display_data",
          "data": {
            "image/png": "[encoded data removed]",
            "text/plain": [
              "<Figure size 576x432 with 1 Axes>"
            ]
          },
          "metadata": {
            "tags": []
          }
        }
      ]
    },
    {
      "cell_type": "code",
      "metadata": {
        "id": "BhT5K5Fq6S_U"
      },
      "source": [
        "def yield_to_price(y,coupon,remaining):\n",
        "    x=(1+y/200)^(2*remaining)\n",
        "    price=(coupon*100/y)*(x-1)/x+100/x\n",
        "    return price\n",
        "\n",
        "\n",
        "def calc_reamainig(settle,maturity):\n",
        "    n=settle-maturity\n",
        "    return n\n"
      ],
      "execution_count": 39,
      "outputs": []
    },
    {
      "cell_type": "code",
      "metadata": {
        "id": "Hxdmagsk6S_V",
        "outputId": "fd38b261-c2ed-4aa1-dfea-3e62e5e81bda",
        "colab": {
          "base_uri": "https://localhost:8080/",
          "height": 437
        }
      },
      "source": [
        "x=list_mat\n",
        "y=np.array(cleanprice_list2)-np.array(cleanprice_list)\n",
        "\n",
        "plt.plot_date(x, y,linestyle ='solid')\n",
        "plt.gcf().set_size_inches(8, 6)\n",
        "plt.tight_layout()\n",
        "plt.show()"
      ],
      "execution_count": 40,
      "outputs": [
        {
          "output_type": "display_data",
          "data": {
            "image/png": "[encoded data removed]",
            "text/plain": [
              "<Figure size 576x432 with 1 Axes>"
            ]
          },
          "metadata": {
            "tags": []
          }
        }
      ]
    },
    {
      "cell_type": "code",
      "metadata": {
        "id": "xDAwqFmT6S_V"
      },
      "source": [
        "#df['f_cusip'].to_csv('cusip.csv')"
      ],
      "execution_count": 41,
      "outputs": []
    }
  ]
}