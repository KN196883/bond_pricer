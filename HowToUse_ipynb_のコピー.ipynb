{
  "nbformat": 4,
  "nbformat_minor": 0,
  "metadata": {
    "kernelspec": {
      "display_name": "Python 3",
      "language": "python",
      "name": "python3"
    },
    "language_info": {
      "codemirror_mode": {
        "name": "ipython",
        "version": 3
      },
      "file_extension": ".py",
      "mimetype": "text/x-python",
      "name": "python",
      "nbconvert_exporter": "python",
      "pygments_lexer": "ipython3",
      "version": "3.7.1"
    },
    "toc": {
      "base_numbering": 1,
      "nav_menu": {},
      "number_sections": true,
      "sideBar": true,
      "skip_h1_title": false,
      "title_cell": "Table of Contents",
      "title_sidebar": "Contents",
      "toc_cell": true,
      "toc_position": {},
      "toc_section_display": true,
      "toc_window_display": true
    },
    "colab": {
      "name": "HowToUse.ipynb のコピー",
      "provenance": [],
      "machine_shape": "hm",
      "include_colab_link": true
    }
  },
  "cells": [
    {
      "cell_type": "markdown",
      "metadata": {
        "id": "view-in-github",
        "colab_type": "text"
      },
      "source": [
        "<a href=\"https://colab.research.google.com/github/KN196883/bond_pricer/blob/master/HowToUse_ipynb_%E3%81%AE%E3%82%B3%E3%83%94%E3%83%BC.ipynb\" target=\"_parent\"><img src=\"https://colab.research.google.com/assets/colab-badge.svg\" alt=\"Open In Colab\"/></a>"
      ]
    },
    {
      "cell_type": "markdown",
      "metadata": {
        "toc": true,
        "id": "XkcgWkeBG2QQ"
      },
      "source": [
        "<h1>Table of Contents<span class=\"tocSkip\"></span></h1>\n",
        "<div class=\"toc\"><ul class=\"toc-item\"><li><span><a href=\"#ほしいプロダクトのidを取得する\" data-toc-modified-id=\"ほしいプロダクトのidを取得する-1\"><span class=\"toc-item-num\">1&nbsp;&nbsp;</span>ほしいプロダクトのidを取得する</a></span></li><li><span><a href=\"#TYの1年間の四本値を取得\" data-toc-modified-id=\"TYの1年間の四本値を取得-2\"><span class=\"toc-item-num\">2&nbsp;&nbsp;</span>TYの1年間の四本値を取得</a></span></li><li><span><a href=\"#TD-sequentialの取得\" data-toc-modified-id=\"TD-sequentialの取得-3\"><span class=\"toc-item-num\">3&nbsp;&nbsp;</span>TD sequentialの取得</a></span><ul class=\"toc-item\"><li><span><a href=\"#まずは1個\" data-toc-modified-id=\"まずは1個-3.1\"><span class=\"toc-item-num\">3.1&nbsp;&nbsp;</span>まずは1個</a></span></li><li><span><a href=\"#複数\" data-toc-modified-id=\"複数-3.2\"><span class=\"toc-item-num\">3.2&nbsp;&nbsp;</span>複数</a></span></li></ul></li></ul></div>"
      ]
    },
    {
      "cell_type": "code",
      "metadata": {
        "ExecuteTime": {
          "end_time": "2021-03-09T14:30:31.761514Z",
          "start_time": "2021-03-09T14:30:30.744836Z"
        },
        "id": "QCTrbHoYG2Qa"
      },
      "source": [
        "import numpy as np\n",
        "import pandas as pd\n",
        "import matplotlib.pyplot as plt\n",
        "from datetime import datetime, timedelta"
      ],
      "execution_count": null,
      "outputs": []
    },
    {
      "cell_type": "code",
      "metadata": {
        "ExecuteTime": {
          "end_time": "2021-03-09T14:30:33.225877Z",
          "start_time": "2021-03-09T14:30:31.765695Z"
        },
        "colab": {
          "base_uri": "https://localhost:8080/",
          "height": 371
        },
        "id": "vSIj1a7HG2Qb",
        "outputId": "cc14d68e-1209-4d3f-f34e-d2b73095475e"
      },
      "source": [
        "### Google Colab上で実行する場合は、\n",
        "### tomdemark.pyからget_tdsequential, plot_tdseqを、\n",
        "### investingcom_scraper.pyからget_historicalを、\n",
        "### それぞれコピペ\n",
        "\n",
        "from tomdemark import get_tdsequential, plot_tdseq\n",
        "from investingcom_scraper import get_historical"
      ],
      "execution_count": null,
      "outputs": [
        {
          "output_type": "error",
          "ename": "ModuleNotFoundError",
          "evalue": "ignored",
          "traceback": [
            "\u001b[0;31m---------------------------------------------------------------------------\u001b[0m",
            "\u001b[0;31mModuleNotFoundError\u001b[0m                       Traceback (most recent call last)",
            "\u001b[0;32m<ipython-input-2-40a4a93c0b31>\u001b[0m in \u001b[0;36m<module>\u001b[0;34m()\u001b[0m\n\u001b[1;32m      4\u001b[0m \u001b[0;31m### それぞれコピペ\u001b[0m\u001b[0;34m\u001b[0m\u001b[0;34m\u001b[0m\u001b[0;34m\u001b[0m\u001b[0m\n\u001b[1;32m      5\u001b[0m \u001b[0;34m\u001b[0m\u001b[0m\n\u001b[0;32m----> 6\u001b[0;31m \u001b[0;32mfrom\u001b[0m \u001b[0mtomdemark\u001b[0m \u001b[0;32mimport\u001b[0m \u001b[0mget_tdsequential\u001b[0m\u001b[0;34m,\u001b[0m \u001b[0mplot_tdseq\u001b[0m\u001b[0;34m\u001b[0m\u001b[0;34m\u001b[0m\u001b[0m\n\u001b[0m\u001b[1;32m      7\u001b[0m \u001b[0;32mfrom\u001b[0m \u001b[0minvestingcom_scraper\u001b[0m \u001b[0;32mimport\u001b[0m \u001b[0mget_historical\u001b[0m\u001b[0;34m\u001b[0m\u001b[0;34m\u001b[0m\u001b[0m\n",
            "\u001b[0;31mModuleNotFoundError\u001b[0m: No module named 'tomdemark'",
            "",
            "\u001b[0;31m---------------------------------------------------------------------------\u001b[0;32m\nNOTE: If your import is failing due to a missing package, you can\nmanually install dependencies using either !pip or !apt.\n\nTo view examples of installing some common dependencies, click the\n\"Open Examples\" button below.\n\u001b[0;31m---------------------------------------------------------------------------\u001b[0m\n"
          ]
        }
      ]
    },
    {
      "cell_type": "markdown",
      "metadata": {
        "id": "DMjslUItG2Qb"
      },
      "source": [
        "# ほしいプロダクトのidを取得する\n",
        "`investing.com`から四本値を取得するために、`investing.com`上の`id`を指定する必要があるので、それを探す\n",
        "\n",
        "`id`がすでにわかっている場合は、ここを飛ばすことができる"
      ]
    },
    {
      "cell_type": "code",
      "metadata": {
        "ExecuteTime": {
          "end_time": "2021-03-09T14:30:33.241244Z",
          "start_time": "2021-03-09T14:30:33.228409Z"
        },
        "id": "537wkGU7G2Qc"
      },
      "source": [
        "### Google Colab上で実行する場合は、\n",
        "### investingcom_scraper.pyからsearch_id_candidatesを、\n",
        "### コピペ\n",
        "\n",
        "from investingcom_scraper import search_id_candidates"
      ],
      "execution_count": null,
      "outputs": []
    },
    {
      "cell_type": "markdown",
      "metadata": {
        "id": "S3oqlsBoG2Qc"
      },
      "source": [
        "`search_id_candidates('クエリ')`で、ほしいプロダクトを検索できる"
      ]
    },
    {
      "cell_type": "code",
      "metadata": {
        "ExecuteTime": {
          "end_time": "2021-03-09T14:30:34.134219Z",
          "start_time": "2021-03-09T14:30:33.269618Z"
        },
        "id": "clIIddbwG2Qd",
        "outputId": "6b2d185b-a819-4cff-ad3e-14b3b1adbd07"
      },
      "source": [
        "search_id_candidates('US 10 year T Note')"
      ],
      "execution_count": null,
      "outputs": [
        {
          "output_type": "stream",
          "text": [
            "8880 +++ TY +++ US 10 Year T-Note Futures\n",
            "958107 +++ TYVIX +++ CBOE/CBOT 10-year US Treasury Note Volatility\n"
          ],
          "name": "stdout"
        },
        {
          "output_type": "execute_result",
          "data": {
            "text/plain": [
              "[<investpy.utils.search_obj.SearchObj at 0x7ffe7c75c8d0>,\n",
              " <investpy.utils.search_obj.SearchObj at 0x7ffe7c75c908>]"
            ]
          },
          "metadata": {
            "tags": []
          },
          "execution_count": 4
        }
      ]
    },
    {
      "cell_type": "markdown",
      "metadata": {
        "id": "Kl3DT17JG2Qe"
      },
      "source": [
        "これで、TYの`id`は`8880`であることがわかる"
      ]
    },
    {
      "cell_type": "markdown",
      "metadata": {
        "id": "CodHq6atG2Qe"
      },
      "source": [
        "# TYの1年間の四本値を取得"
      ]
    },
    {
      "cell_type": "code",
      "metadata": {
        "ExecuteTime": {
          "end_time": "2021-03-09T14:30:37.007777Z",
          "start_time": "2021-03-09T14:30:34.752815Z"
        },
        "id": "bj8_af9DG2Qf"
      },
      "source": [
        "df_ex_weekend = get_historical(\n",
        "    id_=8880,\n",
        "    from_date=datetime(2020, 3, 9),\n",
        "    to_date=datetime(2021, 3, 9),\n",
        "    force_exclude_weekend=True\n",
        ")\n",
        "\n",
        "df_in_weekend = get_historical(\n",
        "    id_=8880,\n",
        "    from_date=datetime(2020, 3, 9),\n",
        "    to_date=datetime(2021, 3, 9),\n",
        "    force_exclude_weekend=False\n",
        ")"
      ],
      "execution_count": null,
      "outputs": []
    },
    {
      "cell_type": "code",
      "metadata": {
        "ExecuteTime": {
          "end_time": "2021-03-09T14:30:37.081289Z",
          "start_time": "2021-03-09T14:30:37.021550Z"
        },
        "scrolled": true,
        "id": "_C39bGI5G2Qf",
        "outputId": "2909db62-9542-4872-f8a9-998c20edbce7"
      },
      "source": [
        "df_ex_weekend.tail()"
      ],
      "execution_count": null,
      "outputs": [
        {
          "output_type": "execute_result",
          "data": {
            "text/html": [
              "<div>\n",
              "<style scoped>\n",
              "    .dataframe tbody tr th:only-of-type {\n",
              "        vertical-align: middle;\n",
              "    }\n",
              "\n",
              "    .dataframe tbody tr th {\n",
              "        vertical-align: top;\n",
              "    }\n",
              "\n",
              "    .dataframe thead th {\n",
              "        text-align: right;\n",
              "    }\n",
              "</style>\n",
              "<table border=\"1\" class=\"dataframe\">\n",
              "  <thead>\n",
              "    <tr style=\"text-align: right;\">\n",
              "      <th></th>\n",
              "      <th>Date</th>\n",
              "      <th>Open</th>\n",
              "      <th>High</th>\n",
              "      <th>Low</th>\n",
              "      <th>Close</th>\n",
              "    </tr>\n",
              "  </thead>\n",
              "  <tbody>\n",
              "    <tr>\n",
              "      <th>4</th>\n",
              "      <td>2021-03-03</td>\n",
              "      <td>134.73</td>\n",
              "      <td>134.73</td>\n",
              "      <td>133.95</td>\n",
              "      <td>134.14</td>\n",
              "    </tr>\n",
              "    <tr>\n",
              "      <th>3</th>\n",
              "      <td>2021-03-04</td>\n",
              "      <td>134.06</td>\n",
              "      <td>134.28</td>\n",
              "      <td>133.48</td>\n",
              "      <td>133.50</td>\n",
              "    </tr>\n",
              "    <tr>\n",
              "      <th>2</th>\n",
              "      <td>2021-03-05</td>\n",
              "      <td>133.44</td>\n",
              "      <td>133.63</td>\n",
              "      <td>132.88</td>\n",
              "      <td>133.45</td>\n",
              "    </tr>\n",
              "    <tr>\n",
              "      <th>1</th>\n",
              "      <td>2021-03-08</td>\n",
              "      <td>133.14</td>\n",
              "      <td>133.22</td>\n",
              "      <td>132.94</td>\n",
              "      <td>132.98</td>\n",
              "    </tr>\n",
              "    <tr>\n",
              "      <th>0</th>\n",
              "      <td>2021-03-09</td>\n",
              "      <td>131.90</td>\n",
              "      <td>132.38</td>\n",
              "      <td>131.87</td>\n",
              "      <td>132.26</td>\n",
              "    </tr>\n",
              "  </tbody>\n",
              "</table>\n",
              "</div>"
            ],
            "text/plain": [
              "        Date    Open    High     Low   Close\n",
              "4 2021-03-03  134.73  134.73  133.95  134.14\n",
              "3 2021-03-04  134.06  134.28  133.48  133.50\n",
              "2 2021-03-05  133.44  133.63  132.88  133.45\n",
              "1 2021-03-08  133.14  133.22  132.94  132.98\n",
              "0 2021-03-09  131.90  132.38  131.87  132.26"
            ]
          },
          "metadata": {
            "tags": []
          },
          "execution_count": 7
        }
      ]
    },
    {
      "cell_type": "markdown",
      "metadata": {
        "id": "SVOh1YkhG2Qf"
      },
      "source": [
        "休日を強制排除する"
      ]
    },
    {
      "cell_type": "code",
      "metadata": {
        "ExecuteTime": {
          "end_time": "2021-03-09T14:30:37.235333Z",
          "start_time": "2021-03-09T14:30:37.109561Z"
        },
        "id": "iOVyMKo6G2Qg",
        "outputId": "9746d35d-8b8d-410c-d086-2120e7a9f87e"
      },
      "source": [
        "print(len(df_ex_weekend))\n",
        "print(len(df_in_weekend))"
      ],
      "execution_count": null,
      "outputs": [
        {
          "output_type": "stream",
          "text": [
            "261\n",
            "265\n"
          ],
          "name": "stdout"
        }
      ]
    },
    {
      "cell_type": "code",
      "metadata": {
        "ExecuteTime": {
          "end_time": "2021-03-09T14:30:37.295568Z",
          "start_time": "2021-03-09T14:30:37.256137Z"
        },
        "id": "9UYRBZPWG2Qg",
        "outputId": "9653f717-9381-4fe2-b1db-7a438e96d888"
      },
      "source": [
        "print('除かれた日')\n",
        "set(df_in_weekend['Date']) - set(df_ex_weekend['Date'])"
      ],
      "execution_count": null,
      "outputs": [
        {
          "output_type": "stream",
          "text": [
            "除かれた日\n"
          ],
          "name": "stdout"
        },
        {
          "output_type": "execute_result",
          "data": {
            "text/plain": [
              "{Timestamp('2020-05-24 00:00:00'),\n",
              " Timestamp('2020-09-06 00:00:00'),\n",
              " Timestamp('2021-01-17 00:00:00'),\n",
              " Timestamp('2021-02-14 00:00:00')}"
            ]
          },
          "metadata": {
            "tags": []
          },
          "execution_count": 9
        }
      ]
    },
    {
      "cell_type": "markdown",
      "metadata": {
        "id": "fjYltaSkG2Qg"
      },
      "source": [
        "# TD sequentialの取得"
      ]
    },
    {
      "cell_type": "markdown",
      "metadata": {
        "id": "HUvW6nZaG2Qh"
      },
      "source": [
        "## まずは1個"
      ]
    },
    {
      "cell_type": "code",
      "metadata": {
        "ExecuteTime": {
          "end_time": "2021-03-09T14:31:15.333832Z",
          "start_time": "2021-03-09T14:31:07.728754Z"
        },
        "id": "cL0sIh7yG2Qh"
      },
      "source": [
        "name, invcom_id = 'TY', 8880\n",
        "\n",
        "df = get_historical(\n",
        "    id_=invcom_id,\n",
        "    from_date=datetime(2020, 9, 9),\n",
        "    to_date=datetime(2021, 3, 9),\n",
        "    force_exclude_weekend=True,\n",
        "    dateCol_be_str=True\n",
        ")\n",
        "t, o, h, l, c, shortVal, longVal, sellVal, buyVal = get_tdsequential(df)\n",
        "plot_tdseq(t, o, h, l, c, shortVal, longVal, sellVal, buyVal, \n",
        "           ylabel=name, figshow=True)"
      ],
      "execution_count": null,
      "outputs": []
    },
    {
      "cell_type": "markdown",
      "metadata": {
        "id": "cD9odLWBG2Qh"
      },
      "source": [
        "## 複数"
      ]
    },
    {
      "cell_type": "code",
      "metadata": {
        "ExecuteTime": {
          "end_time": "2021-03-09T14:24:10.506996Z",
          "start_time": "2021-03-09T14:24:10.472234Z"
        },
        "id": "bU3MRmmfG2Qi"
      },
      "source": [
        "wanted_investingcom_ids = {\n",
        "    'US': 8907,\n",
        "    'TY': 8880,\n",
        "    'FV': 8905,\n",
        "    'TU': 8906,\n",
        "    'Buxl': 40739,\n",
        "    'Bund': 8895,\n",
        "    'Bobl': 8899,\n",
        "    'Schatz': 8900,\n",
        "    'OAT': 28719,\n",
        "    'Gilt': 8886,\n",
        "    'Spread_US02_US10': 1141794,\n",
        "    'JGB_Futures': 8986,\n",
        "    'S&P500_Futures': 8839,\n",
        "    'Nikkei_Futures': 1097727,\n",
        "    'USDJPY': 3,\n",
        "    'EURUSD': 1,\n",
        "    'USDCNH': 961728\n",
        "    }"
      ],
      "execution_count": null,
      "outputs": []
    },
    {
      "cell_type": "code",
      "metadata": {
        "ExecuteTime": {
          "start_time": "2021-03-09T14:25:02.040Z"
        },
        "scrolled": false,
        "id": "egmYOHUyG2Qi"
      },
      "source": [
        "for name, invcom_id in wanted_investingcom_ids.items():\n",
        "    df = get_historical(\n",
        "        id_=invcom_id,\n",
        "        from_date=datetime(2020, 9, 9),\n",
        "        to_date=datetime(2021, 3, 9),\n",
        "        force_exclude_weekend=True,\n",
        "        dateCol_be_str=True\n",
        "    )\n",
        "    t, o, h, l, c, shortVal, longVal, sellVal, buyVal = get_tdsequential(df)\n",
        "    plot_tdseq(t, o, h, l, c, shortVal, longVal, sellVal, buyVal, \n",
        "               ylabel=name, figshow=True)"
      ],
      "execution_count": null,
      "outputs": []
    },
    {
      "cell_type": "code",
      "metadata": {
        "id": "jdPrDpH4G2Qi"
      },
      "source": [
        ""
      ],
      "execution_count": null,
      "outputs": []
    }
  ]
}